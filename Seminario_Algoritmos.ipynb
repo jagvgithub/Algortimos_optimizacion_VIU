{
  "nbformat": 4,
  "nbformat_minor": 0,
  "metadata": {
    "colab": {
      "provenance": [],
      "include_colab_link": true
    },
    "kernelspec": {
      "name": "python3",
      "display_name": "Python 3"
    }
  },
  "cells": [
    {
      "cell_type": "markdown",
      "metadata": {
        "id": "view-in-github",
        "colab_type": "text"
      },
      "source": [
        "<a href=\"https://colab.research.google.com/github/jagvgithub/Algortimos_optimizacion_VIU/blob/main/Seminario_Algoritmos.ipynb\" target=\"_parent\"><img src=\"https://colab.research.google.com/assets/colab-badge.svg\" alt=\"Open In Colab\"/></a>"
      ]
    },
    {
      "cell_type": "markdown",
      "metadata": {
        "id": "hVbXYX-RfPWh"
      },
      "source": [
        "# Algoritmos de optimización - Seminario<br>\n",
        "Nombre y Apellidos: Jose Antonio Gómez Vargas\n",
        "\n",
        "Url: https://github.com/.../03MAIR---Algoritmos-de-Optimizacion---2019/tree/master/SEMINARIO<br>\n",
        "\n",
        "Problema 3. Combinar cifras y operaciones\n",
        "\n",
        "Descripción del problema:\n",
        "\n",
        "* El problema consiste en analizar el siguiente problema y diseñar un algoritmo que lo resuelva.\n",
        "* Disponemos de las 9 cifras del 1 al 9 (excluimos el cero) y de los 4 signos básicos de las\n",
        "operaciones fundamentales: suma(+), resta(-), multiplicación(*) y división(/)\n",
        "* Debemos combinarlos alternativamente sin repetir ninguno de ellos para obtener una\n",
        "cantidad dada. Un ejemplo sería para obtener el 4:\n",
        "4+2-6/3*1 = 4\n",
        "\n",
        "(*) La respuesta es obligatoria\n",
        "\n",
        "\n",
        "\n",
        "\n",
        "\n",
        "                                        "
      ]
    },
    {
      "cell_type": "code",
      "source": [
        "# librerías necesarias\n",
        "import pandas as pd\n",
        "from itertools import permutations"
      ],
      "metadata": {
        "id": "mTiktsMCTq7x"
      },
      "execution_count": 44,
      "outputs": []
    },
    {
      "cell_type": "markdown",
      "source": [
        "# Divide y vencerás"
      ],
      "metadata": {
        "id": "-m_yXEzljBon"
      }
    },
    {
      "cell_type": "code",
      "source": [
        "%%time\n",
        "\n",
        "# creación de funciones necesarias dentro del algoritmo\n",
        "\n",
        "def generar_expresiones(numeros, operadores):\n",
        "    expresiones = []\n",
        "    resultados = []\n",
        "    for num_perm in permutations(numeros, 5):\n",
        "        for op_perm in permutations(operadores, 4):\n",
        "            expresion = \"{}{}{}{}{}{}{}{}{}\".format(num_perm[0], op_perm[0], num_perm[1], op_perm[1], num_perm[2], op_perm[2], num_perm[3], op_perm[3], num_perm[4])\n",
        "            expresiones.append(expresion)\n",
        "    return expresiones\n",
        "\n",
        "def evaluar_expresiones(expresiones):\n",
        "    resultados = []\n",
        "    for expresion in expresiones:\n",
        "        try:\n",
        "            resultado = eval(expresion)\n",
        "            resultados.append(resultado)\n",
        "        except ZeroDivisionError:\n",
        "            pass\n",
        "    return resultados\n",
        "\n",
        "# Validación del valor de entrada\n",
        "while True:\n",
        "    try:\n",
        "        valor_objetivo = int(input(\"\\nPor favor ingrese el valor deseado como resultado en la expresión: \"))\n",
        "        if valor_objetivo <= 0:\n",
        "            print(\"\\nEl número de discos debe ser mayor que cero, Inténtalo de nuevo.\")\n",
        "        else:\n",
        "            break\n",
        "    except ValueError:\n",
        "        print(\"\\nPor favor, ingresa un número entero.\")\n",
        "\n",
        "# Listas de números y operadores\n",
        "numeros = [1, 2, 3, 4, 5, 6, 7, 8, 9]\n",
        "operadores = ['+', '-', '*', '/']\n",
        "\n",
        "# Generar todas las permutaciones posibles de 5 números y 4 operadores\n",
        "expresiones = generar_expresiones(numeros, operadores)\n",
        "\n",
        "# Evaluar los resultados de las expresiones\n",
        "resultados = evaluar_expresiones(expresiones)\n",
        "\n",
        "# Filtrar las expresiones que cumplen con el valor objetivo\n",
        "expresiones_resultantes = [expresiones[i] for i in range(len(expresiones)) if resultados[i] == valor_objetivo]\n",
        "\n",
        "# Crear un DataFrame con las expresiones y los resultados\n",
        "df = pd.DataFrame({'Expresión': expresiones_resultantes, 'Resultado': [valor_objetivo] * len(expresiones_resultantes)})\n",
        "df= df[df['Resultado'] == valor_objetivo]\n",
        "\n",
        "# Mostrar el DataFrame\n",
        "print(df)\n"
      ],
      "metadata": {
        "id": "9I29clTpiHec",
        "outputId": "8b5f8b24-3787-47dd-998a-7f84a429afad",
        "colab": {
          "base_uri": "https://localhost:8080/"
        }
      },
      "execution_count": 80,
      "outputs": [
        {
          "output_type": "stream",
          "name": "stdout",
          "text": [
            "\n",
            "Por favor ingrese el valor deseado como resultado en la expresión: 20\n",
            "      Expresión  Resultado\n",
            "0     1-2+7/3*9         20\n",
            "1     1-2+7*9/3         20\n",
            "2     1-2+9/3*7         20\n",
            "3     1-2+9*7/3         20\n",
            "4     1+3*7-4/2         20\n",
            "...         ...        ...\n",
            "1339  9+8/4*7-3         20\n",
            "1340  9*8/4+7-5         20\n",
            "1341  9+8*6/3-5         20\n",
            "1342  9+8*6/4-1         20\n",
            "1343  9+8*7/4-3         20\n",
            "\n",
            "[1344 rows x 2 columns]\n",
            "CPU times: user 3.15 s, sys: 18.4 ms, total: 3.17 s\n",
            "Wall time: 6.56 s\n"
          ]
        }
      ]
    },
    {
      "cell_type": "markdown",
      "source": [
        "(*)¿Cuantas posibilidades hay sin tener en cuenta las restricciones?<br>"
      ],
      "metadata": {
        "id": "tiB6proPORpU"
      }
    },
    {
      "cell_type": "markdown",
      "source": [
        "¿Cuantas posibilidades hay teniendo en cuenta todas las restricciones."
      ],
      "metadata": {
        "id": "0_rBoR6nTZPk"
      }
    },
    {
      "cell_type": "code",
      "source": [
        "''' Pregunta 1 '''\n",
        "\n",
        "numeros = len(set(numeros))  # Número de opciones para cada posición del número\n",
        "operadores = len(set(operadores))  # Número de opciones para cada posición del operador\n",
        "posibilidades_numeros = numeros ** 5\n",
        "posibilidades_operadores = operadores ** 4\n",
        "total_posibilidades = posibilidades_numeros * posibilidades_operadores\n",
        "print(\"Total de posibles soluciones sin restricciones: {:,}\".format(total_posibilidades))\n",
        "\n",
        "''' Pregunta 2 '''\n",
        "\n",
        "numeros = 9\n",
        "signos = 4\n",
        "# Calcular el número total de permutaciones de 5 números y 4 signos sin repetición\n",
        "num_permutaciones_numeros = len(list(permutations(range(1, numeros + 1), 5)))\n",
        "num_permutaciones_signos = len(list(permutations(['+', '-', '*', '/'], signos)))\n",
        "total_posibilidades = num_permutaciones_numeros * num_permutaciones_signos\n",
        "print(\"Total de posibles soluciones con restricciones en numeros y signos: {:,}\".format(total_posibilidades))\n",
        "\n",
        "\n",
        "print(\"Total de posibles soluciones con restricciones en numeros y signos y el valor objetivo del usuario: {:,}\".format(len(df)))\n",
        "\n",
        "df.head(10)\n",
        "\n"
      ],
      "metadata": {
        "colab": {
          "base_uri": "https://localhost:8080/",
          "height": 415
        },
        "collapsed": true,
        "id": "T9AgkT-WJIPA",
        "outputId": "a5ed9df8-7496-4f8b-c418-db36b374c402"
      },
      "execution_count": 81,
      "outputs": [
        {
          "output_type": "stream",
          "name": "stdout",
          "text": [
            "Total de posibles soluciones sin restricciones: 15,116,544\n",
            "Total de posibles soluciones con restricciones en numeros y signos: 362,880\n",
            "Total de posibles soluciones con restricciones en numeros y signos y el valor objetivo del usuario: 1,344\n"
          ]
        },
        {
          "output_type": "execute_result",
          "data": {
            "text/plain": [
              "   Expresión  Resultado\n",
              "0  1-2+7/3*9         20\n",
              "1  1-2+7*9/3         20\n",
              "2  1-2+9/3*7         20\n",
              "3  1-2+9*7/3         20\n",
              "4  1+3*7-4/2         20\n",
              "5  1+3*7-8/4         20\n",
              "6  1-4/2+3*7         20\n",
              "7  1-4/2+7*3         20\n",
              "8  1-5+6/2*8         20\n",
              "9  1-5+6*8/2         20"
            ],
            "text/html": [
              "\n",
              "  <div id=\"df-b91d9420-a1a3-4c91-aaf0-2aa71a5a73cb\" class=\"colab-df-container\">\n",
              "    <div>\n",
              "<style scoped>\n",
              "    .dataframe tbody tr th:only-of-type {\n",
              "        vertical-align: middle;\n",
              "    }\n",
              "\n",
              "    .dataframe tbody tr th {\n",
              "        vertical-align: top;\n",
              "    }\n",
              "\n",
              "    .dataframe thead th {\n",
              "        text-align: right;\n",
              "    }\n",
              "</style>\n",
              "<table border=\"1\" class=\"dataframe\">\n",
              "  <thead>\n",
              "    <tr style=\"text-align: right;\">\n",
              "      <th></th>\n",
              "      <th>Expresión</th>\n",
              "      <th>Resultado</th>\n",
              "    </tr>\n",
              "  </thead>\n",
              "  <tbody>\n",
              "    <tr>\n",
              "      <th>0</th>\n",
              "      <td>1-2+7/3*9</td>\n",
              "      <td>20</td>\n",
              "    </tr>\n",
              "    <tr>\n",
              "      <th>1</th>\n",
              "      <td>1-2+7*9/3</td>\n",
              "      <td>20</td>\n",
              "    </tr>\n",
              "    <tr>\n",
              "      <th>2</th>\n",
              "      <td>1-2+9/3*7</td>\n",
              "      <td>20</td>\n",
              "    </tr>\n",
              "    <tr>\n",
              "      <th>3</th>\n",
              "      <td>1-2+9*7/3</td>\n",
              "      <td>20</td>\n",
              "    </tr>\n",
              "    <tr>\n",
              "      <th>4</th>\n",
              "      <td>1+3*7-4/2</td>\n",
              "      <td>20</td>\n",
              "    </tr>\n",
              "    <tr>\n",
              "      <th>5</th>\n",
              "      <td>1+3*7-8/4</td>\n",
              "      <td>20</td>\n",
              "    </tr>\n",
              "    <tr>\n",
              "      <th>6</th>\n",
              "      <td>1-4/2+3*7</td>\n",
              "      <td>20</td>\n",
              "    </tr>\n",
              "    <tr>\n",
              "      <th>7</th>\n",
              "      <td>1-4/2+7*3</td>\n",
              "      <td>20</td>\n",
              "    </tr>\n",
              "    <tr>\n",
              "      <th>8</th>\n",
              "      <td>1-5+6/2*8</td>\n",
              "      <td>20</td>\n",
              "    </tr>\n",
              "    <tr>\n",
              "      <th>9</th>\n",
              "      <td>1-5+6*8/2</td>\n",
              "      <td>20</td>\n",
              "    </tr>\n",
              "  </tbody>\n",
              "</table>\n",
              "</div>\n",
              "    <div class=\"colab-df-buttons\">\n",
              "\n",
              "  <div class=\"colab-df-container\">\n",
              "    <button class=\"colab-df-convert\" onclick=\"convertToInteractive('df-b91d9420-a1a3-4c91-aaf0-2aa71a5a73cb')\"\n",
              "            title=\"Convert this dataframe to an interactive table.\"\n",
              "            style=\"display:none;\">\n",
              "\n",
              "  <svg xmlns=\"http://www.w3.org/2000/svg\" height=\"24px\" viewBox=\"0 -960 960 960\">\n",
              "    <path d=\"M120-120v-720h720v720H120Zm60-500h600v-160H180v160Zm220 220h160v-160H400v160Zm0 220h160v-160H400v160ZM180-400h160v-160H180v160Zm440 0h160v-160H620v160ZM180-180h160v-160H180v160Zm440 0h160v-160H620v160Z\"/>\n",
              "  </svg>\n",
              "    </button>\n",
              "\n",
              "  <style>\n",
              "    .colab-df-container {\n",
              "      display:flex;\n",
              "      gap: 12px;\n",
              "    }\n",
              "\n",
              "    .colab-df-convert {\n",
              "      background-color: #E8F0FE;\n",
              "      border: none;\n",
              "      border-radius: 50%;\n",
              "      cursor: pointer;\n",
              "      display: none;\n",
              "      fill: #1967D2;\n",
              "      height: 32px;\n",
              "      padding: 0 0 0 0;\n",
              "      width: 32px;\n",
              "    }\n",
              "\n",
              "    .colab-df-convert:hover {\n",
              "      background-color: #E2EBFA;\n",
              "      box-shadow: 0px 1px 2px rgba(60, 64, 67, 0.3), 0px 1px 3px 1px rgba(60, 64, 67, 0.15);\n",
              "      fill: #174EA6;\n",
              "    }\n",
              "\n",
              "    .colab-df-buttons div {\n",
              "      margin-bottom: 4px;\n",
              "    }\n",
              "\n",
              "    [theme=dark] .colab-df-convert {\n",
              "      background-color: #3B4455;\n",
              "      fill: #D2E3FC;\n",
              "    }\n",
              "\n",
              "    [theme=dark] .colab-df-convert:hover {\n",
              "      background-color: #434B5C;\n",
              "      box-shadow: 0px 1px 3px 1px rgba(0, 0, 0, 0.15);\n",
              "      filter: drop-shadow(0px 1px 2px rgba(0, 0, 0, 0.3));\n",
              "      fill: #FFFFFF;\n",
              "    }\n",
              "  </style>\n",
              "\n",
              "    <script>\n",
              "      const buttonEl =\n",
              "        document.querySelector('#df-b91d9420-a1a3-4c91-aaf0-2aa71a5a73cb button.colab-df-convert');\n",
              "      buttonEl.style.display =\n",
              "        google.colab.kernel.accessAllowed ? 'block' : 'none';\n",
              "\n",
              "      async function convertToInteractive(key) {\n",
              "        const element = document.querySelector('#df-b91d9420-a1a3-4c91-aaf0-2aa71a5a73cb');\n",
              "        const dataTable =\n",
              "          await google.colab.kernel.invokeFunction('convertToInteractive',\n",
              "                                                    [key], {});\n",
              "        if (!dataTable) return;\n",
              "\n",
              "        const docLinkHtml = 'Like what you see? Visit the ' +\n",
              "          '<a target=\"_blank\" href=https://colab.research.google.com/notebooks/data_table.ipynb>data table notebook</a>'\n",
              "          + ' to learn more about interactive tables.';\n",
              "        element.innerHTML = '';\n",
              "        dataTable['output_type'] = 'display_data';\n",
              "        await google.colab.output.renderOutput(dataTable, element);\n",
              "        const docLink = document.createElement('div');\n",
              "        docLink.innerHTML = docLinkHtml;\n",
              "        element.appendChild(docLink);\n",
              "      }\n",
              "    </script>\n",
              "  </div>\n",
              "\n",
              "\n",
              "<div id=\"df-958be671-149e-4d8d-90c1-17cd3220051c\">\n",
              "  <button class=\"colab-df-quickchart\" onclick=\"quickchart('df-958be671-149e-4d8d-90c1-17cd3220051c')\"\n",
              "            title=\"Suggest charts\"\n",
              "            style=\"display:none;\">\n",
              "\n",
              "<svg xmlns=\"http://www.w3.org/2000/svg\" height=\"24px\"viewBox=\"0 0 24 24\"\n",
              "     width=\"24px\">\n",
              "    <g>\n",
              "        <path d=\"M19 3H5c-1.1 0-2 .9-2 2v14c0 1.1.9 2 2 2h14c1.1 0 2-.9 2-2V5c0-1.1-.9-2-2-2zM9 17H7v-7h2v7zm4 0h-2V7h2v10zm4 0h-2v-4h2v4z\"/>\n",
              "    </g>\n",
              "</svg>\n",
              "  </button>\n",
              "\n",
              "<style>\n",
              "  .colab-df-quickchart {\n",
              "      --bg-color: #E8F0FE;\n",
              "      --fill-color: #1967D2;\n",
              "      --hover-bg-color: #E2EBFA;\n",
              "      --hover-fill-color: #174EA6;\n",
              "      --disabled-fill-color: #AAA;\n",
              "      --disabled-bg-color: #DDD;\n",
              "  }\n",
              "\n",
              "  [theme=dark] .colab-df-quickchart {\n",
              "      --bg-color: #3B4455;\n",
              "      --fill-color: #D2E3FC;\n",
              "      --hover-bg-color: #434B5C;\n",
              "      --hover-fill-color: #FFFFFF;\n",
              "      --disabled-bg-color: #3B4455;\n",
              "      --disabled-fill-color: #666;\n",
              "  }\n",
              "\n",
              "  .colab-df-quickchart {\n",
              "    background-color: var(--bg-color);\n",
              "    border: none;\n",
              "    border-radius: 50%;\n",
              "    cursor: pointer;\n",
              "    display: none;\n",
              "    fill: var(--fill-color);\n",
              "    height: 32px;\n",
              "    padding: 0;\n",
              "    width: 32px;\n",
              "  }\n",
              "\n",
              "  .colab-df-quickchart:hover {\n",
              "    background-color: var(--hover-bg-color);\n",
              "    box-shadow: 0 1px 2px rgba(60, 64, 67, 0.3), 0 1px 3px 1px rgba(60, 64, 67, 0.15);\n",
              "    fill: var(--button-hover-fill-color);\n",
              "  }\n",
              "\n",
              "  .colab-df-quickchart-complete:disabled,\n",
              "  .colab-df-quickchart-complete:disabled:hover {\n",
              "    background-color: var(--disabled-bg-color);\n",
              "    fill: var(--disabled-fill-color);\n",
              "    box-shadow: none;\n",
              "  }\n",
              "\n",
              "  .colab-df-spinner {\n",
              "    border: 2px solid var(--fill-color);\n",
              "    border-color: transparent;\n",
              "    border-bottom-color: var(--fill-color);\n",
              "    animation:\n",
              "      spin 1s steps(1) infinite;\n",
              "  }\n",
              "\n",
              "  @keyframes spin {\n",
              "    0% {\n",
              "      border-color: transparent;\n",
              "      border-bottom-color: var(--fill-color);\n",
              "      border-left-color: var(--fill-color);\n",
              "    }\n",
              "    20% {\n",
              "      border-color: transparent;\n",
              "      border-left-color: var(--fill-color);\n",
              "      border-top-color: var(--fill-color);\n",
              "    }\n",
              "    30% {\n",
              "      border-color: transparent;\n",
              "      border-left-color: var(--fill-color);\n",
              "      border-top-color: var(--fill-color);\n",
              "      border-right-color: var(--fill-color);\n",
              "    }\n",
              "    40% {\n",
              "      border-color: transparent;\n",
              "      border-right-color: var(--fill-color);\n",
              "      border-top-color: var(--fill-color);\n",
              "    }\n",
              "    60% {\n",
              "      border-color: transparent;\n",
              "      border-right-color: var(--fill-color);\n",
              "    }\n",
              "    80% {\n",
              "      border-color: transparent;\n",
              "      border-right-color: var(--fill-color);\n",
              "      border-bottom-color: var(--fill-color);\n",
              "    }\n",
              "    90% {\n",
              "      border-color: transparent;\n",
              "      border-bottom-color: var(--fill-color);\n",
              "    }\n",
              "  }\n",
              "</style>\n",
              "\n",
              "  <script>\n",
              "    async function quickchart(key) {\n",
              "      const quickchartButtonEl =\n",
              "        document.querySelector('#' + key + ' button');\n",
              "      quickchartButtonEl.disabled = true;  // To prevent multiple clicks.\n",
              "      quickchartButtonEl.classList.add('colab-df-spinner');\n",
              "      try {\n",
              "        const charts = await google.colab.kernel.invokeFunction(\n",
              "            'suggestCharts', [key], {});\n",
              "      } catch (error) {\n",
              "        console.error('Error during call to suggestCharts:', error);\n",
              "      }\n",
              "      quickchartButtonEl.classList.remove('colab-df-spinner');\n",
              "      quickchartButtonEl.classList.add('colab-df-quickchart-complete');\n",
              "    }\n",
              "    (() => {\n",
              "      let quickchartButtonEl =\n",
              "        document.querySelector('#df-958be671-149e-4d8d-90c1-17cd3220051c button');\n",
              "      quickchartButtonEl.style.display =\n",
              "        google.colab.kernel.accessAllowed ? 'block' : 'none';\n",
              "    })();\n",
              "  </script>\n",
              "</div>\n",
              "    </div>\n",
              "  </div>\n"
            ],
            "application/vnd.google.colaboratory.intrinsic+json": {
              "type": "dataframe",
              "variable_name": "df",
              "summary": "{\n  \"name\": \"df\",\n  \"rows\": 1344,\n  \"fields\": [\n    {\n      \"column\": \"Expresi\\u00f3n\",\n      \"properties\": {\n        \"dtype\": \"string\",\n        \"num_unique_values\": 1344,\n        \"samples\": [\n          \"3*8-7+6/2\",\n          \"3*7+8/2-5\",\n          \"8/2*6-5+1\"\n        ],\n        \"semantic_type\": \"\",\n        \"description\": \"\"\n      }\n    },\n    {\n      \"column\": \"Resultado\",\n      \"properties\": {\n        \"dtype\": \"number\",\n        \"std\": 0,\n        \"min\": 20,\n        \"max\": 20,\n        \"num_unique_values\": 1,\n        \"samples\": [\n          20\n        ],\n        \"semantic_type\": \"\",\n        \"description\": \"\"\n      }\n    }\n  ]\n}"
            }
          },
          "metadata": {},
          "execution_count": 81
        }
      ]
    },
    {
      "cell_type": "markdown",
      "metadata": {
        "id": "dzynfVJahHoY"
      },
      "source": [
        "Modelo para el espacio de soluciones<br>\n",
        "(*) ¿Cual es la estructura de datos que mejor se adapta al problema? Argumentalo.(Es posible que hayas elegido una al principio y veas la necesidad de cambiar, arguentalo)\n"
      ]
    },
    {
      "cell_type": "markdown",
      "metadata": {
        "id": "xFIJrOwKi2Ti"
      },
      "source": [
        "Respuesta"
      ]
    },
    {
      "cell_type": "markdown",
      "metadata": {
        "id": "7Z9U2W7bi-XS"
      },
      "source": [
        "Según el modelo para el espacio de soluciones<br>\n",
        "(*)¿Cual es la función objetivo?\n",
        "\n",
        "(*)¿Es un problema de maximización o minimización?"
      ]
    },
    {
      "cell_type": "markdown",
      "metadata": {
        "id": "hBalWLM7j1_d"
      },
      "source": [
        "El ejercicio proporciona un valor objetivo que representa el resultado deseado que una expresión matemática debe alcanzar. Este valor objetivo se utiliza como criterio de filtrado para seleccionar solo aquellas expresiones que produzcan el valor deseado. En este contexto, la \"función objetivo\" se refiere a este valor deseado ingresado como entrada, que las expresiones generadas deben alcanzar. No se trata de una función matemática en el sentido tradicional, sino más bien de un objetivo que se persigue al generar y evaluar las expresiones matemáticas."
      ]
    },
    {
      "cell_type": "markdown",
      "source": [
        "Este problema no implica la optimización de una función objetivo para encontrar el máximo o el mínimo valor. En lugar de eso, el objetivo es encontrar todas las combinaciones posibles de números y operadores cuyo resultado, al ser evaluado, coincida con un valor particular proporcionado. Por lo tanto, no puede clasificarse estrictamente como un problema de maximización o minimización, ya que no estamos buscando optimizar una función objetivo en términos de su valor máximo o mínimo. En su lugar, estamos explorando todas las combinaciones para encontrar aquellas que satisfagan el criterio establecido."
      ],
      "metadata": {
        "id": "Ni5dAQ-agRit"
      }
    },
    {
      "cell_type": "code",
      "metadata": {
        "id": "pDA-rg3Gj5Lz"
      },
      "source": [],
      "execution_count": null,
      "outputs": []
    },
    {
      "cell_type": "markdown",
      "metadata": {
        "id": "rlnTYgY1j6I2"
      },
      "source": [
        "Diseña un algoritmo para resolver el problema por fuerza bruta"
      ]
    },
    {
      "cell_type": "markdown",
      "metadata": {
        "id": "70rDgxYXkC8r"
      },
      "source": [
        "# Fuerza bruta"
      ]
    },
    {
      "cell_type": "code",
      "metadata": {
        "id": "CJb5sQ0qkENy"
      },
      "source": [
        "# Validación del valor de entrada\n",
        "%%time\n",
        "\n",
        "# Listas de números y operadores\n",
        "numeros = [1, 2, 3, 4, 5, 6, 7, 8, 9]\n",
        "operadores = ['+', '-', '*', '/']\n",
        "\n",
        "# Generar todas las permutaciones posibles de 5 números y 4 operadores\n",
        "expresiones = []\n",
        "resultados = []\n",
        "for num_perm in permutations(numeros, 5):\n",
        "    for op_perm in permutations(operadores, 4):\n",
        "        expresion = \"{}{}{}{}{}{}{}{}{}\".format(num_perm[0], op_perm[0], num_perm[1], op_perm[1], num_perm[2], op_perm[2], num_perm[3], op_perm[3], num_perm[4])\n",
        "        try:\n",
        "            resultado = eval(expresion)\n",
        "            expresiones.append(expresion)\n",
        "            resultados.append(resultado)\n",
        "        except ZeroDivisionError:\n",
        "            pass\n",
        "\n",
        "# Crear un DataFrame con las expresiones y los resultados\n",
        "df = pd.DataFrame({'Expresión': expresiones, 'Resultado': resultados})\n",
        "df = df[df['Resultado'] == valor_objetivo]\n",
        "\n",
        "\n",
        "# Mostrar el DataFrame\n",
        "print(df)"
      ],
      "execution_count": null,
      "outputs": []
    },
    {
      "cell_type": "markdown",
      "metadata": {
        "id": "tgrnsC2nkFa8"
      },
      "source": [
        "Calcula la complejidad del algoritmo por fuerza bruta"
      ]
    },
    {
      "cell_type": "markdown",
      "metadata": {
        "id": "9eUd3xwckP68"
      },
      "source": [
        "Respuesta"
      ]
    },
    {
      "cell_type": "code",
      "metadata": {
        "id": "rvZWwL-ckRST"
      },
      "source": [],
      "execution_count": null,
      "outputs": []
    },
    {
      "cell_type": "markdown",
      "metadata": {
        "id": "txbrmLmskReM"
      },
      "source": [
        "(*)Diseña un algoritmo que mejore la complejidad del algortimo por fuerza bruta. Argumenta porque crees que mejora el algoritmo por fuerza bruta"
      ]
    },
    {
      "cell_type": "markdown",
      "metadata": {
        "id": "hLrVwt5QkZPD"
      },
      "source": [
        "Respuesta"
      ]
    },
    {
      "cell_type": "code",
      "metadata": {
        "id": "m1eyM21Vkabg"
      },
      "source": [],
      "execution_count": null,
      "outputs": []
    },
    {
      "cell_type": "markdown",
      "metadata": {
        "id": "eGDB4K6uk1iN"
      },
      "source": [
        "(*)Calcula la complejidad del algoritmo"
      ]
    },
    {
      "cell_type": "markdown",
      "metadata": {
        "id": "NhpTh_BPk1ms"
      },
      "source": [
        "Respuesta"
      ]
    },
    {
      "cell_type": "code",
      "metadata": {
        "id": "nREzhkStlCq8"
      },
      "source": [],
      "execution_count": null,
      "outputs": []
    },
    {
      "cell_type": "markdown",
      "metadata": {
        "id": "3M6QjTsSkmYe"
      },
      "source": [
        "Según el problema (y tenga sentido), diseña un juego de datos de entrada aleatorios"
      ]
    },
    {
      "cell_type": "markdown",
      "metadata": {
        "id": "Jc3_OlyNkvjZ"
      },
      "source": [
        "Respuesta"
      ]
    },
    {
      "cell_type": "code",
      "metadata": {
        "id": "sJ-N2etjkyWc"
      },
      "source": [],
      "execution_count": null,
      "outputs": []
    },
    {
      "cell_type": "markdown",
      "metadata": {
        "id": "zy5ZROmjlGo1"
      },
      "source": [
        "Aplica el algoritmo al juego de datos generado"
      ]
    },
    {
      "cell_type": "markdown",
      "metadata": {
        "id": "_Cmj-PVylMsa"
      },
      "source": [
        "Respuesta"
      ]
    },
    {
      "cell_type": "code",
      "metadata": {
        "id": "Jkx8GeiYlUz1"
      },
      "source": [],
      "execution_count": null,
      "outputs": []
    },
    {
      "cell_type": "markdown",
      "metadata": {
        "id": "eTFWUJQrtGcv"
      },
      "source": [
        "Enumera las referencias que has utilizado(si ha sido necesario) para llevar a cabo el trabajo"
      ]
    },
    {
      "cell_type": "markdown",
      "metadata": {
        "id": "YKQ_mRBttWsP"
      },
      "source": [
        "Respuesta"
      ]
    },
    {
      "cell_type": "markdown",
      "metadata": {
        "id": "kAkDPUyRtYyH"
      },
      "source": [
        "Describe brevemente las lineas de como crees que es posible avanzar en el estudio del problema. Ten en cuenta incluso posibles variaciones del problema y/o variaciones al alza del tamaño"
      ]
    },
    {
      "cell_type": "markdown",
      "metadata": {
        "id": "IE0uZmo-tZu-"
      },
      "source": [
        "Respuesta"
      ]
    }
  ]
}