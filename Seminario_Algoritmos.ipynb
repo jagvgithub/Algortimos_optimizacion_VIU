{
  "nbformat": 4,
  "nbformat_minor": 0,
  "metadata": {
    "colab": {
      "provenance": [],
      "include_colab_link": true
    },
    "kernelspec": {
      "name": "python3",
      "display_name": "Python 3"
    }
  },
  "cells": [
    {
      "cell_type": "markdown",
      "metadata": {
        "id": "view-in-github",
        "colab_type": "text"
      },
      "source": [
        "<a href=\"https://colab.research.google.com/github/jagvgithub/Algortimos_optimizacion_VIU/blob/main/Seminario_Algoritmos.ipynb\" target=\"_parent\"><img src=\"https://colab.research.google.com/assets/colab-badge.svg\" alt=\"Open In Colab\"/></a>"
      ]
    },
    {
      "cell_type": "markdown",
      "metadata": {
        "id": "hVbXYX-RfPWh"
      },
      "source": [
        "# Algoritmos de optimización - Seminario<br>\n",
        "Nombre y Apellidos: Jose Antonio Gómez Vargas\n",
        "Url: https://github.com/.../03MAIR---Algoritmos-de-Optimizacion---2019/tree/master/SEMINARIO<br>\n",
        "Problema:\n",
        ">3. Combinar cifras y operaciones\n",
        "\n",
        "Descripción del problema:\n",
        "\n",
        "* El problema consiste en analizar el siguiente problema y diseñar un algoritmo que lo resuelva.\n",
        "* Disponemos de las 9 cifras del 1 al 9 (excluimos el cero) y de los 4 signos básicos de las\n",
        "operaciones fundamentales: suma(+), resta(-), multiplicación(*) y división(/)\n",
        "* Debemos combinarlos alternativamente sin repetir ninguno de ellos para obtener una\n",
        "cantidad dada. Un ejemplo sería para obtener el 4:\n",
        "4+2-6/3*1 = 4\n",
        "\n",
        "....\n",
        "\n",
        "(*) La respuesta es obligatoria\n",
        "\n",
        "\n",
        "\n",
        "\n",
        "\n",
        "                                        "
      ]
    },
    {
      "cell_type": "code",
      "source": [
        "import pandas as pd\n",
        "from itertools import permutations\n",
        "\n",
        "# Listas de números y operadores\n",
        "numeros = [1, 2, 3, 4, 5, 6, 7, 8, 9]\n",
        "operadores = ['+', '-', '*', '/']\n",
        "\n",
        "# Generar todas las permutaciones posibles de 5 números y 4 operadores\n",
        "expresiones = []\n",
        "resultados = []\n",
        "for num_perm in permutations(numeros, 5):\n",
        "    for op_perm in permutations(operadores, 4):\n",
        "        expresion = \"{}{}{}{}{}{}{}{}{}\".format(num_perm[0], op_perm[0], num_perm[1], op_perm[1], num_perm[2], op_perm[2], num_perm[3], op_perm[3], num_perm[4])\n",
        "        try:\n",
        "            resultado = eval(expresion)\n",
        "            expresiones.append(expresion)\n",
        "            resultados.append(resultado)\n",
        "        except ZeroDivisionError:\n",
        "            pass\n",
        "\n",
        "# Crear un DataFrame con las expresiones y los resultados\n",
        "df = pd.DataFrame({'Expresión': expresiones, 'Resultado': resultados})\n",
        "\n",
        "# Mostrar el DataFrame\n",
        "print(df)"
      ],
      "metadata": {
        "id": "8KhAVZg3IplI",
        "outputId": "d9fe6ccf-3ce7-4cd5-b522-cb746b4bd4ae",
        "colab": {
          "base_uri": "https://localhost:8080/"
        }
      },
      "execution_count": 32,
      "outputs": [
        {
          "output_type": "stream",
          "name": "stdout",
          "text": [
            "        Expresión  Resultado\n",
            "0       1+2-3*4/5   0.600000\n",
            "1       1+2-3/4*5  -0.750000\n",
            "2       1+2*3-4/5   6.200000\n",
            "3       1+2*3/4-5  -2.500000\n",
            "4       1+2/3-4*5 -18.333333\n",
            "...           ...        ...\n",
            "362875  9/8+7*6-5  38.125000\n",
            "362876  9/8-7+6*5  24.125000\n",
            "362877  9/8-7*6+5 -35.875000\n",
            "362878  9/8*7+6-5   8.875000\n",
            "362879  9/8*7-6+5   6.875000\n",
            "\n",
            "[362880 rows x 2 columns]\n"
          ]
        }
      ]
    },
    {
      "cell_type": "markdown",
      "source": [
        "(*)¿Cuantas posibilidades hay sin tener en cuenta las restricciones?<br>"
      ],
      "metadata": {
        "id": "tiB6proPORpU"
      }
    },
    {
      "cell_type": "code",
      "source": [
        "numeros = 9  # Número de opciones para cada posición del número\n",
        "operadores = 4  # Número de opciones para cada posición del operador\n",
        "posibilidades_numeros = numeros ** 5\n",
        "posibilidades_operadores = operadores ** 4\n",
        "total_posibilidades = posibilidades_numeros * posibilidades_operadores\n",
        "print(\"Total de posibles soluciones sin restricciones: {:,}\".format(total_posibilidades))"
      ],
      "metadata": {
        "id": "T9AgkT-WJIPA",
        "outputId": "f903af80-afd7-44d9-c35d-547d857ee331",
        "colab": {
          "base_uri": "https://localhost:8080/"
        }
      },
      "execution_count": 36,
      "outputs": [
        {
          "output_type": "stream",
          "name": "stdout",
          "text": [
            "Total de posibles soluciones sin restricciones: 15,116,544\n"
          ]
        }
      ]
    },
    {
      "cell_type": "markdown",
      "source": [
        "¿Cuantas posibilidades hay teniendo en cuenta todas las restricciones."
      ],
      "metadata": {
        "id": "uSDGn59mOcFU"
      }
    },
    {
      "cell_type": "code",
      "source": [
        "from itertools import permutations\n",
        "numeros = 9\n",
        "signos = 4\n",
        "# Calcular el número total de permutaciones de 5 números y 4 signos sin repetición\n",
        "num_permutaciones_numeros = len(list(permutations(range(1, numeros + 1), 5)))\n",
        "num_permutaciones_signos = len(list(permutations(['+', '-', '*', '/'], signos)))\n",
        "total_posibilidades = num_permutaciones_numeros * num_permutaciones_signos\n",
        "print(\"Total de posibles soluciones con restricciones: {:,}\".format(total_posibilidades))"
      ],
      "metadata": {
        "id": "18rWpoY-J_LF",
        "outputId": "e6db97a9-b397-4bb4-c5a2-ae180bda0151",
        "colab": {
          "base_uri": "https://localhost:8080/"
        }
      },
      "execution_count": 37,
      "outputs": [
        {
          "output_type": "stream",
          "name": "stdout",
          "text": [
            "Total de posibles soluciones con restricciones: 362,880\n"
          ]
        }
      ]
    },
    {
      "cell_type": "markdown",
      "metadata": {
        "id": "dzynfVJahHoY"
      },
      "source": [
        "Modelo para el espacio de soluciones<br>\n",
        "(*) ¿Cual es la estructura de datos que mejor se adapta al problema? Argumentalo.(Es posible que hayas elegido una al principio y veas la necesidad de cambiar, arguentalo)\n"
      ]
    },
    {
      "cell_type": "markdown",
      "metadata": {
        "id": "xFIJrOwKi2Ti"
      },
      "source": [
        "Respuesta"
      ]
    },
    {
      "cell_type": "code",
      "metadata": {
        "id": "38c-7-ejhJmA"
      },
      "source": [],
      "execution_count": null,
      "outputs": []
    },
    {
      "cell_type": "markdown",
      "metadata": {
        "id": "7Z9U2W7bi-XS"
      },
      "source": [
        "Según el modelo para el espacio de soluciones<br>\n",
        "(*)¿Cual es la función objetivo?\n",
        "\n",
        "(*)¿Es un problema de maximización o minimización?"
      ]
    },
    {
      "cell_type": "markdown",
      "metadata": {
        "id": "hBalWLM7j1_d"
      },
      "source": [
        "Respuesta"
      ]
    },
    {
      "cell_type": "code",
      "metadata": {
        "id": "pDA-rg3Gj5Lz"
      },
      "source": [],
      "execution_count": null,
      "outputs": []
    },
    {
      "cell_type": "markdown",
      "metadata": {
        "id": "rlnTYgY1j6I2"
      },
      "source": [
        "Diseña un algoritmo para resolver el problema por fuerza bruta"
      ]
    },
    {
      "cell_type": "markdown",
      "metadata": {
        "id": "70rDgxYXkC8r"
      },
      "source": [
        "Respuesta"
      ]
    },
    {
      "cell_type": "code",
      "metadata": {
        "id": "CJb5sQ0qkENy"
      },
      "source": [],
      "execution_count": null,
      "outputs": []
    },
    {
      "cell_type": "markdown",
      "metadata": {
        "id": "tgrnsC2nkFa8"
      },
      "source": [
        "Calcula la complejidad del algoritmo por fuerza bruta"
      ]
    },
    {
      "cell_type": "markdown",
      "metadata": {
        "id": "9eUd3xwckP68"
      },
      "source": [
        "Respuesta"
      ]
    },
    {
      "cell_type": "code",
      "metadata": {
        "id": "rvZWwL-ckRST"
      },
      "source": [],
      "execution_count": null,
      "outputs": []
    },
    {
      "cell_type": "markdown",
      "metadata": {
        "id": "txbrmLmskReM"
      },
      "source": [
        "(*)Diseña un algoritmo que mejore la complejidad del algortimo por fuerza bruta. Argumenta porque crees que mejora el algoritmo por fuerza bruta"
      ]
    },
    {
      "cell_type": "markdown",
      "metadata": {
        "id": "hLrVwt5QkZPD"
      },
      "source": [
        "Respuesta"
      ]
    },
    {
      "cell_type": "code",
      "metadata": {
        "id": "m1eyM21Vkabg"
      },
      "source": [],
      "execution_count": null,
      "outputs": []
    },
    {
      "cell_type": "markdown",
      "metadata": {
        "id": "eGDB4K6uk1iN"
      },
      "source": [
        "(*)Calcula la complejidad del algoritmo"
      ]
    },
    {
      "cell_type": "markdown",
      "metadata": {
        "id": "NhpTh_BPk1ms"
      },
      "source": [
        "Respuesta"
      ]
    },
    {
      "cell_type": "code",
      "metadata": {
        "id": "nREzhkStlCq8"
      },
      "source": [],
      "execution_count": null,
      "outputs": []
    },
    {
      "cell_type": "markdown",
      "metadata": {
        "id": "3M6QjTsSkmYe"
      },
      "source": [
        "Según el problema (y tenga sentido), diseña un juego de datos de entrada aleatorios"
      ]
    },
    {
      "cell_type": "markdown",
      "metadata": {
        "id": "Jc3_OlyNkvjZ"
      },
      "source": [
        "Respuesta"
      ]
    },
    {
      "cell_type": "code",
      "metadata": {
        "id": "sJ-N2etjkyWc"
      },
      "source": [],
      "execution_count": null,
      "outputs": []
    },
    {
      "cell_type": "markdown",
      "metadata": {
        "id": "zy5ZROmjlGo1"
      },
      "source": [
        "Aplica el algoritmo al juego de datos generado"
      ]
    },
    {
      "cell_type": "markdown",
      "metadata": {
        "id": "_Cmj-PVylMsa"
      },
      "source": [
        "Respuesta"
      ]
    },
    {
      "cell_type": "code",
      "metadata": {
        "id": "Jkx8GeiYlUz1"
      },
      "source": [],
      "execution_count": null,
      "outputs": []
    },
    {
      "cell_type": "markdown",
      "metadata": {
        "id": "eTFWUJQrtGcv"
      },
      "source": [
        "Enumera las referencias que has utilizado(si ha sido necesario) para llevar a cabo el trabajo"
      ]
    },
    {
      "cell_type": "markdown",
      "metadata": {
        "id": "YKQ_mRBttWsP"
      },
      "source": [
        "Respuesta"
      ]
    },
    {
      "cell_type": "markdown",
      "metadata": {
        "id": "kAkDPUyRtYyH"
      },
      "source": [
        "Describe brevemente las lineas de como crees que es posible avanzar en el estudio del problema. Ten en cuenta incluso posibles variaciones del problema y/o variaciones al alza del tamaño"
      ]
    },
    {
      "cell_type": "markdown",
      "metadata": {
        "id": "IE0uZmo-tZu-"
      },
      "source": [
        "Respuesta"
      ]
    }
  ]
}