{
  "nbformat": 4,
  "nbformat_minor": 0,
  "metadata": {
    "colab": {
      "provenance": [],
      "include_colab_link": true
    },
    "kernelspec": {
      "name": "python3",
      "display_name": "Python 3"
    }
  },
  "cells": [
    {
      "cell_type": "markdown",
      "metadata": {
        "id": "view-in-github",
        "colab_type": "text"
      },
      "source": [
        "<a href=\"https://colab.research.google.com/github/jagvgithub/Algortimos_optimizacion_VIU/blob/main/Seminario_Algoritmos.ipynb\" target=\"_parent\"><img src=\"https://colab.research.google.com/assets/colab-badge.svg\" alt=\"Open In Colab\"/></a>"
      ]
    },
    {
      "cell_type": "markdown",
      "metadata": {
        "id": "hVbXYX-RfPWh"
      },
      "source": [
        "# Algoritmos de optimización - Seminario<br>\n",
        "Nombre y Apellidos: Jose Antonio Gómez Vargas\n",
        "\n",
        "Url: https://github.com/jagvgithub/Algortimos_optimizacion_VIU/blob/main/Seminario_Algoritmos.ipynb<br>\n",
        "\n",
        "Problema 3. Combinar cifras y operaciones\n",
        "\n",
        "Descripción del problema:\n",
        "\n",
        "* El problema consiste en analizar el siguiente problema y diseñar un algoritmo que lo resuelva.\n",
        "* Disponemos de las 9 cifras del 1 al 9 (excluimos el cero) y de los 4 signos básicos de las\n",
        "operaciones fundamentales: suma(+), resta(-), multiplicación(*) y división(/)\n",
        "* Debemos combinarlos alternativamente sin repetir ninguno de ellos para obtener una\n",
        "cantidad dada. Un ejemplo sería para obtener el 4:\n",
        "4+2-6/3*1 = 4\n",
        "\n",
        "(*) La respuesta es obligatoria\n",
        "\n",
        "\n",
        "\n",
        "\n",
        "\n",
        "                                        "
      ]
    },
    {
      "cell_type": "code",
      "source": [
        "# librerías necesarias\n",
        "import pandas as pd\n",
        "from itertools import permutations"
      ],
      "metadata": {
        "id": "mTiktsMCTq7x"
      },
      "execution_count": null,
      "outputs": []
    },
    {
      "cell_type": "markdown",
      "source": [
        "# Divide y vencerás"
      ],
      "metadata": {
        "id": "-m_yXEzljBon"
      }
    },
    {
      "cell_type": "code",
      "source": [
        "# creación de funciones necesarias dentro del algoritmo\n",
        "\n",
        "def generar_expresiones(numeros, operadores):\n",
        "    expresiones = []\n",
        "    resultados = []\n",
        "    for num_perm in permutations(numeros, 5):\n",
        "        for op_perm in permutations(operadores, 4):\n",
        "            expresion = \"{}{}{}{}{}{}{}{}{}\".format(num_perm[0], op_perm[0], num_perm[1], op_perm[1], num_perm[2], op_perm[2], num_perm[3], op_perm[3], num_perm[4])\n",
        "            expresiones.append(expresion)\n",
        "    return expresiones\n",
        "\n",
        "def evaluar_expresiones(expresiones):\n",
        "    resultados = []\n",
        "    for expresion in expresiones:\n",
        "        try:\n",
        "            resultado = eval(expresion)\n",
        "            resultados.append(resultado)\n",
        "        except ZeroDivisionError:\n",
        "            pass\n",
        "    return resultados\n",
        "\n",
        "# Validación del valor de entrada\n",
        "while True:\n",
        "    try:\n",
        "        valor_objetivo = int(input(\"\\nPor favor ingrese el valor deseado como resultado en la expresión: \"))\n",
        "        if valor_objetivo <= 0:\n",
        "            print(\"\\nEl número de discos debe ser mayor que cero, Inténtalo de nuevo.\")\n",
        "        else:\n",
        "            break\n",
        "    except ValueError:\n",
        "        print(\"\\nPor favor, ingresa un número entero.\")\n",
        "\n",
        "# Listas de números y operadores\n",
        "numeros = [1, 2, 3, 4, 5, 6, 7, 8, 9]\n",
        "operadores = ['+', '-', '*', '/']\n",
        "\n",
        "# Generar todas las permutaciones posibles de 5 números y 4 operadores\n",
        "expresiones = generar_expresiones(numeros, operadores)\n",
        "\n",
        "# Evaluar los resultados de las expresiones\n",
        "resultados = evaluar_expresiones(expresiones)\n",
        "\n",
        "# Filtrar las expresiones que cumplen con el valor objetivo\n",
        "expresiones_resultantes = [expresiones[i] for i in range(len(expresiones)) if resultados[i] == valor_objetivo]\n",
        "\n",
        "# Crear un DataFrame con las expresiones y los resultados\n",
        "df = pd.DataFrame({'Expresión': expresiones_resultantes, 'Resultado': [valor_objetivo] * len(expresiones_resultantes)})\n",
        "\n",
        "df= df[df['Resultado'] == valor_objetivo]\n",
        "\n",
        "# Mostrar el DataFrame\n",
        "print(df)\n"
      ],
      "metadata": {
        "colab": {
          "base_uri": "https://localhost:8080/"
        },
        "id": "9I29clTpiHec",
        "outputId": "968a9277-e11c-45e6-8912-be9e3615d3b0"
      },
      "execution_count": null,
      "outputs": [
        {
          "output_type": "stream",
          "name": "stdout",
          "text": [
            "\n",
            "Por favor ingrese el valor deseado como resultado en la expresión: 4\n",
            "Valor mínimo: 4\n",
            "Valor máximo: 4\n",
            "      Expresión  Resultado\n",
            "0     1-2*3/6+4          4\n",
            "1     1-2/3*6+7          4\n",
            "2     1/2*4-3+5          4\n",
            "3     1/2*4+5-3          4\n",
            "4     1/2*4-5+7          4\n",
            "...         ...        ...\n",
            "2107  9-8+6*1/2          4\n",
            "2108  9-8+6/2*1          4\n",
            "2109  9-8+6*2/4          4\n",
            "2110  9-8+6/4*2          4\n",
            "2111  9-8*6/4+7          4\n",
            "\n",
            "[2112 rows x 2 columns]\n"
          ]
        }
      ]
    },
    {
      "cell_type": "markdown",
      "source": [
        "(*)¿Cuantas posibilidades hay sin tener en cuenta las restricciones?<br>"
      ],
      "metadata": {
        "id": "tiB6proPORpU"
      }
    },
    {
      "cell_type": "markdown",
      "source": [
        "¿Cuantas posibilidades hay teniendo en cuenta todas las restricciones."
      ],
      "metadata": {
        "id": "0_rBoR6nTZPk"
      }
    },
    {
      "cell_type": "code",
      "source": [
        "''' Pregunta 1 '''\n",
        "\n",
        "numeros = len(set(numeros))  # Número de opciones para cada posición del número\n",
        "operadores = len(set(operadores))  # Número de opciones para cada posición del operador\n",
        "posibilidades_numeros = numeros ** 5\n",
        "posibilidades_operadores = operadores ** 4\n",
        "total_posibilidades = posibilidades_numeros * posibilidades_operadores\n",
        "print(\"Total de posibles soluciones sin restricciones: {:,}\".format(total_posibilidades))\n",
        "\n",
        "''' Pregunta 2 '''\n",
        "\n",
        "numeros = 9\n",
        "signos = 4\n",
        "# Calcular el número total de permutaciones de 5 números y 4 signos sin repetición\n",
        "num_permutaciones_numeros = len(list(permutations(range(1, numeros + 1), 5)))\n",
        "num_permutaciones_signos = len(list(permutations(['+', '-', '*', '/'], signos)))\n",
        "total_posibilidades = num_permutaciones_numeros * num_permutaciones_signos\n",
        "print(\"Total de posibles soluciones con restricciones en numeros y signos: {:,}\".format(total_posibilidades))\n",
        "\n",
        "\n",
        "print(\"Total de posibles soluciones con restricciones en numeros y signos y el valor objetivo del usuario: {:,}\".format(len(df)))\n",
        "\n",
        "df.head(10)\n",
        "\n"
      ],
      "metadata": {
        "colab": {
          "base_uri": "https://localhost:8080/",
          "height": 415
        },
        "collapsed": true,
        "id": "T9AgkT-WJIPA",
        "outputId": "9eb786e8-d61c-4e8e-f6dc-fa2425786049"
      },
      "execution_count": null,
      "outputs": [
        {
          "output_type": "stream",
          "name": "stdout",
          "text": [
            "Total de posibles soluciones sin restricciones: 15,116,544\n",
            "Total de posibles soluciones con restricciones en numeros y signos: 362,880\n",
            "Total de posibles soluciones con restricciones en numeros y signos y el valor objetivo del usuario: 2,112\n"
          ]
        },
        {
          "output_type": "execute_result",
          "data": {
            "text/plain": [
              "   Expresión  Resultado\n",
              "0  1-2*3/6+4          4\n",
              "1  1-2/3*6+7          4\n",
              "2  1/2*4-3+5          4\n",
              "3  1/2*4+5-3          4\n",
              "4  1/2*4-5+7          4\n",
              "5  1*2+4-6/3          4\n",
              "6  1/2*4-6+8          4\n",
              "7  1/2*4+7-5          4\n",
              "8  1/2*4-7+9          4\n",
              "9  1/2*4+8-6          4"
            ],
            "text/html": [
              "\n",
              "  <div id=\"df-edfcea8d-e582-418d-bb6b-12dbf0a5d566\" class=\"colab-df-container\">\n",
              "    <div>\n",
              "<style scoped>\n",
              "    .dataframe tbody tr th:only-of-type {\n",
              "        vertical-align: middle;\n",
              "    }\n",
              "\n",
              "    .dataframe tbody tr th {\n",
              "        vertical-align: top;\n",
              "    }\n",
              "\n",
              "    .dataframe thead th {\n",
              "        text-align: right;\n",
              "    }\n",
              "</style>\n",
              "<table border=\"1\" class=\"dataframe\">\n",
              "  <thead>\n",
              "    <tr style=\"text-align: right;\">\n",
              "      <th></th>\n",
              "      <th>Expresión</th>\n",
              "      <th>Resultado</th>\n",
              "    </tr>\n",
              "  </thead>\n",
              "  <tbody>\n",
              "    <tr>\n",
              "      <th>0</th>\n",
              "      <td>1-2*3/6+4</td>\n",
              "      <td>4</td>\n",
              "    </tr>\n",
              "    <tr>\n",
              "      <th>1</th>\n",
              "      <td>1-2/3*6+7</td>\n",
              "      <td>4</td>\n",
              "    </tr>\n",
              "    <tr>\n",
              "      <th>2</th>\n",
              "      <td>1/2*4-3+5</td>\n",
              "      <td>4</td>\n",
              "    </tr>\n",
              "    <tr>\n",
              "      <th>3</th>\n",
              "      <td>1/2*4+5-3</td>\n",
              "      <td>4</td>\n",
              "    </tr>\n",
              "    <tr>\n",
              "      <th>4</th>\n",
              "      <td>1/2*4-5+7</td>\n",
              "      <td>4</td>\n",
              "    </tr>\n",
              "    <tr>\n",
              "      <th>5</th>\n",
              "      <td>1*2+4-6/3</td>\n",
              "      <td>4</td>\n",
              "    </tr>\n",
              "    <tr>\n",
              "      <th>6</th>\n",
              "      <td>1/2*4-6+8</td>\n",
              "      <td>4</td>\n",
              "    </tr>\n",
              "    <tr>\n",
              "      <th>7</th>\n",
              "      <td>1/2*4+7-5</td>\n",
              "      <td>4</td>\n",
              "    </tr>\n",
              "    <tr>\n",
              "      <th>8</th>\n",
              "      <td>1/2*4-7+9</td>\n",
              "      <td>4</td>\n",
              "    </tr>\n",
              "    <tr>\n",
              "      <th>9</th>\n",
              "      <td>1/2*4+8-6</td>\n",
              "      <td>4</td>\n",
              "    </tr>\n",
              "  </tbody>\n",
              "</table>\n",
              "</div>\n",
              "    <div class=\"colab-df-buttons\">\n",
              "\n",
              "  <div class=\"colab-df-container\">\n",
              "    <button class=\"colab-df-convert\" onclick=\"convertToInteractive('df-edfcea8d-e582-418d-bb6b-12dbf0a5d566')\"\n",
              "            title=\"Convert this dataframe to an interactive table.\"\n",
              "            style=\"display:none;\">\n",
              "\n",
              "  <svg xmlns=\"http://www.w3.org/2000/svg\" height=\"24px\" viewBox=\"0 -960 960 960\">\n",
              "    <path d=\"M120-120v-720h720v720H120Zm60-500h600v-160H180v160Zm220 220h160v-160H400v160Zm0 220h160v-160H400v160ZM180-400h160v-160H180v160Zm440 0h160v-160H620v160ZM180-180h160v-160H180v160Zm440 0h160v-160H620v160Z\"/>\n",
              "  </svg>\n",
              "    </button>\n",
              "\n",
              "  <style>\n",
              "    .colab-df-container {\n",
              "      display:flex;\n",
              "      gap: 12px;\n",
              "    }\n",
              "\n",
              "    .colab-df-convert {\n",
              "      background-color: #E8F0FE;\n",
              "      border: none;\n",
              "      border-radius: 50%;\n",
              "      cursor: pointer;\n",
              "      display: none;\n",
              "      fill: #1967D2;\n",
              "      height: 32px;\n",
              "      padding: 0 0 0 0;\n",
              "      width: 32px;\n",
              "    }\n",
              "\n",
              "    .colab-df-convert:hover {\n",
              "      background-color: #E2EBFA;\n",
              "      box-shadow: 0px 1px 2px rgba(60, 64, 67, 0.3), 0px 1px 3px 1px rgba(60, 64, 67, 0.15);\n",
              "      fill: #174EA6;\n",
              "    }\n",
              "\n",
              "    .colab-df-buttons div {\n",
              "      margin-bottom: 4px;\n",
              "    }\n",
              "\n",
              "    [theme=dark] .colab-df-convert {\n",
              "      background-color: #3B4455;\n",
              "      fill: #D2E3FC;\n",
              "    }\n",
              "\n",
              "    [theme=dark] .colab-df-convert:hover {\n",
              "      background-color: #434B5C;\n",
              "      box-shadow: 0px 1px 3px 1px rgba(0, 0, 0, 0.15);\n",
              "      filter: drop-shadow(0px 1px 2px rgba(0, 0, 0, 0.3));\n",
              "      fill: #FFFFFF;\n",
              "    }\n",
              "  </style>\n",
              "\n",
              "    <script>\n",
              "      const buttonEl =\n",
              "        document.querySelector('#df-edfcea8d-e582-418d-bb6b-12dbf0a5d566 button.colab-df-convert');\n",
              "      buttonEl.style.display =\n",
              "        google.colab.kernel.accessAllowed ? 'block' : 'none';\n",
              "\n",
              "      async function convertToInteractive(key) {\n",
              "        const element = document.querySelector('#df-edfcea8d-e582-418d-bb6b-12dbf0a5d566');\n",
              "        const dataTable =\n",
              "          await google.colab.kernel.invokeFunction('convertToInteractive',\n",
              "                                                    [key], {});\n",
              "        if (!dataTable) return;\n",
              "\n",
              "        const docLinkHtml = 'Like what you see? Visit the ' +\n",
              "          '<a target=\"_blank\" href=https://colab.research.google.com/notebooks/data_table.ipynb>data table notebook</a>'\n",
              "          + ' to learn more about interactive tables.';\n",
              "        element.innerHTML = '';\n",
              "        dataTable['output_type'] = 'display_data';\n",
              "        await google.colab.output.renderOutput(dataTable, element);\n",
              "        const docLink = document.createElement('div');\n",
              "        docLink.innerHTML = docLinkHtml;\n",
              "        element.appendChild(docLink);\n",
              "      }\n",
              "    </script>\n",
              "  </div>\n",
              "\n",
              "\n",
              "<div id=\"df-800a374d-9b48-4b76-9178-4da3e6b2f180\">\n",
              "  <button class=\"colab-df-quickchart\" onclick=\"quickchart('df-800a374d-9b48-4b76-9178-4da3e6b2f180')\"\n",
              "            title=\"Suggest charts\"\n",
              "            style=\"display:none;\">\n",
              "\n",
              "<svg xmlns=\"http://www.w3.org/2000/svg\" height=\"24px\"viewBox=\"0 0 24 24\"\n",
              "     width=\"24px\">\n",
              "    <g>\n",
              "        <path d=\"M19 3H5c-1.1 0-2 .9-2 2v14c0 1.1.9 2 2 2h14c1.1 0 2-.9 2-2V5c0-1.1-.9-2-2-2zM9 17H7v-7h2v7zm4 0h-2V7h2v10zm4 0h-2v-4h2v4z\"/>\n",
              "    </g>\n",
              "</svg>\n",
              "  </button>\n",
              "\n",
              "<style>\n",
              "  .colab-df-quickchart {\n",
              "      --bg-color: #E8F0FE;\n",
              "      --fill-color: #1967D2;\n",
              "      --hover-bg-color: #E2EBFA;\n",
              "      --hover-fill-color: #174EA6;\n",
              "      --disabled-fill-color: #AAA;\n",
              "      --disabled-bg-color: #DDD;\n",
              "  }\n",
              "\n",
              "  [theme=dark] .colab-df-quickchart {\n",
              "      --bg-color: #3B4455;\n",
              "      --fill-color: #D2E3FC;\n",
              "      --hover-bg-color: #434B5C;\n",
              "      --hover-fill-color: #FFFFFF;\n",
              "      --disabled-bg-color: #3B4455;\n",
              "      --disabled-fill-color: #666;\n",
              "  }\n",
              "\n",
              "  .colab-df-quickchart {\n",
              "    background-color: var(--bg-color);\n",
              "    border: none;\n",
              "    border-radius: 50%;\n",
              "    cursor: pointer;\n",
              "    display: none;\n",
              "    fill: var(--fill-color);\n",
              "    height: 32px;\n",
              "    padding: 0;\n",
              "    width: 32px;\n",
              "  }\n",
              "\n",
              "  .colab-df-quickchart:hover {\n",
              "    background-color: var(--hover-bg-color);\n",
              "    box-shadow: 0 1px 2px rgba(60, 64, 67, 0.3), 0 1px 3px 1px rgba(60, 64, 67, 0.15);\n",
              "    fill: var(--button-hover-fill-color);\n",
              "  }\n",
              "\n",
              "  .colab-df-quickchart-complete:disabled,\n",
              "  .colab-df-quickchart-complete:disabled:hover {\n",
              "    background-color: var(--disabled-bg-color);\n",
              "    fill: var(--disabled-fill-color);\n",
              "    box-shadow: none;\n",
              "  }\n",
              "\n",
              "  .colab-df-spinner {\n",
              "    border: 2px solid var(--fill-color);\n",
              "    border-color: transparent;\n",
              "    border-bottom-color: var(--fill-color);\n",
              "    animation:\n",
              "      spin 1s steps(1) infinite;\n",
              "  }\n",
              "\n",
              "  @keyframes spin {\n",
              "    0% {\n",
              "      border-color: transparent;\n",
              "      border-bottom-color: var(--fill-color);\n",
              "      border-left-color: var(--fill-color);\n",
              "    }\n",
              "    20% {\n",
              "      border-color: transparent;\n",
              "      border-left-color: var(--fill-color);\n",
              "      border-top-color: var(--fill-color);\n",
              "    }\n",
              "    30% {\n",
              "      border-color: transparent;\n",
              "      border-left-color: var(--fill-color);\n",
              "      border-top-color: var(--fill-color);\n",
              "      border-right-color: var(--fill-color);\n",
              "    }\n",
              "    40% {\n",
              "      border-color: transparent;\n",
              "      border-right-color: var(--fill-color);\n",
              "      border-top-color: var(--fill-color);\n",
              "    }\n",
              "    60% {\n",
              "      border-color: transparent;\n",
              "      border-right-color: var(--fill-color);\n",
              "    }\n",
              "    80% {\n",
              "      border-color: transparent;\n",
              "      border-right-color: var(--fill-color);\n",
              "      border-bottom-color: var(--fill-color);\n",
              "    }\n",
              "    90% {\n",
              "      border-color: transparent;\n",
              "      border-bottom-color: var(--fill-color);\n",
              "    }\n",
              "  }\n",
              "</style>\n",
              "\n",
              "  <script>\n",
              "    async function quickchart(key) {\n",
              "      const quickchartButtonEl =\n",
              "        document.querySelector('#' + key + ' button');\n",
              "      quickchartButtonEl.disabled = true;  // To prevent multiple clicks.\n",
              "      quickchartButtonEl.classList.add('colab-df-spinner');\n",
              "      try {\n",
              "        const charts = await google.colab.kernel.invokeFunction(\n",
              "            'suggestCharts', [key], {});\n",
              "      } catch (error) {\n",
              "        console.error('Error during call to suggestCharts:', error);\n",
              "      }\n",
              "      quickchartButtonEl.classList.remove('colab-df-spinner');\n",
              "      quickchartButtonEl.classList.add('colab-df-quickchart-complete');\n",
              "    }\n",
              "    (() => {\n",
              "      let quickchartButtonEl =\n",
              "        document.querySelector('#df-800a374d-9b48-4b76-9178-4da3e6b2f180 button');\n",
              "      quickchartButtonEl.style.display =\n",
              "        google.colab.kernel.accessAllowed ? 'block' : 'none';\n",
              "    })();\n",
              "  </script>\n",
              "</div>\n",
              "    </div>\n",
              "  </div>\n"
            ],
            "application/vnd.google.colaboratory.intrinsic+json": {
              "type": "dataframe",
              "variable_name": "df",
              "summary": "{\n  \"name\": \"df\",\n  \"rows\": 2112,\n  \"fields\": [\n    {\n      \"column\": \"Expresi\\u00f3n\",\n      \"properties\": {\n        \"dtype\": \"string\",\n        \"num_unique_values\": 2112,\n        \"samples\": [\n          \"3+4/6*9-5\",\n          \"9-4/1*3+7\",\n          \"2*9/3-6+4\"\n        ],\n        \"semantic_type\": \"\",\n        \"description\": \"\"\n      }\n    },\n    {\n      \"column\": \"Resultado\",\n      \"properties\": {\n        \"dtype\": \"number\",\n        \"std\": 0,\n        \"min\": 4,\n        \"max\": 4,\n        \"num_unique_values\": 1,\n        \"samples\": [\n          4\n        ],\n        \"semantic_type\": \"\",\n        \"description\": \"\"\n      }\n    }\n  ]\n}"
            }
          },
          "metadata": {},
          "execution_count": 112
        }
      ]
    },
    {
      "cell_type": "markdown",
      "metadata": {
        "id": "dzynfVJahHoY"
      },
      "source": [
        "Modelo para el espacio de soluciones<br>\n",
        "(*) ¿Cual es la estructura de datos que mejor se adapta al problema? Argumentalo.(Es posible que hayas elegido una al principio y veas la necesidad de cambiar, arguentalo)\n"
      ]
    },
    {
      "cell_type": "markdown",
      "metadata": {
        "id": "xFIJrOwKi2Ti"
      },
      "source": [
        "Para determinar cuál es la mejor estructura de datos para este problema, consideremos los requisitos y las operaciones que necesitamos realizar:\n",
        "\n",
        "*Almacenamiento y Acceso Secuencial:* Necesitamos almacenar todas las posibles expresiones y sus resultados. El acceso secuencial es necesario para evaluar cada expresión y comparar el resultado con el valor objetivo.\n",
        "\n",
        "*Flexibilidad en el Tamaño:* Dado que el número de combinaciones posibles puede\n",
        "ser muy grande, necesitamos una estructura de datos que pueda crecer dinámicamente.\n",
        "\n",
        "* Listas\n",
        "\n",
        "Las listas son una buena opción para este problema porque cumplen con los requisitos mencionados:\n",
        "\n",
        "*Acceso Secuencial:* Nos permiten iterar fácilmente sobre las expresiones y resultados.\n",
        "*Almacenamiento Dinámico:* Podemos agregar elementos sin necesidad de definir su tamaño previamente.\n",
        "\n",
        "*Flexibilidad:* Manejan cualquier número de elementos, lo cual es útil para un gran número de combinaciones.\n",
        "Además, las listas en Python tienen un buen rendimiento para la mayoría de las operaciones básicas (como agregar elementos y acceder a ellos secuencialmente), lo cual es suficiente para este problema.\n",
        "\n",
        "---\n",
        "Diferencias entre Fuerza Bruta y Divide y Vencerás\n",
        "\n",
        "---\n",
        "\n",
        "\n",
        "- Fuerza Bruta\n",
        "\n",
        "Método: Prueba todas las combinaciones posibles sin ninguna optimización.\n",
        "\n",
        "Ventajas: Simple de implementar.\n",
        "\n",
        "Desventajas: Muy ineficiente para problemas de gran tamaño debido al alto número de combinaciones posibles.\n",
        "\n",
        "- Divide y Vencerás\n",
        "\n",
        "Método: Divide el problema en subproblemas más pequeños, resuelve cada uno independientemente y luego combina las soluciones.\n",
        "\n",
        "Ventajas: Puede reducir significativamente el tiempo de ejecución al simplificar el problema y permitir soluciones más rápidas a subproblemas más pequeños.\n",
        "\n",
        "Desventajas: Puede ser más complejo de implementar."
      ]
    },
    {
      "cell_type": "markdown",
      "metadata": {
        "id": "7Z9U2W7bi-XS"
      },
      "source": [
        "Según el modelo para el espacio de soluciones<br>\n",
        "(*)¿Cual es la función objetivo?\n",
        "\n"
      ]
    },
    {
      "cell_type": "markdown",
      "metadata": {
        "id": "hBalWLM7j1_d"
      },
      "source": [
        "El ejercicio proporciona un valor objetivo que representa el resultado deseado que una expresión matemática debe alcanzar. Este valor objetivo se utiliza como criterio de filtrado para seleccionar solo aquellas expresiones que produzcan el valor deseado. En este contexto, la \"función objetivo\" se refiere a este valor deseado ingresado como entrada, que las expresiones generadas deben alcanzar. No se trata de una función matemática en el sentido tradicional, sino más bien de un objetivo que se persigue al generar y evaluar las expresiones matemáticas."
      ]
    },
    {
      "cell_type": "markdown",
      "source": [
        "(*)¿Es un problema de maximización o minimización?"
      ],
      "metadata": {
        "id": "TXkffH04vKbx"
      }
    },
    {
      "cell_type": "markdown",
      "source": [
        "Este problema no implica la optimización de una función objetivo para encontrar el máximo o el mínimo valor. En lugar de eso, el objetivo es encontrar todas las combinaciones posibles de números y operadores cuyo resultado, al ser evaluado, coincida con un valor particular proporcionado. Por lo tanto, no puede clasificarse estrictamente como un problema de maximización o minimización, ya que no estamos buscando optimizar una función objetivo en términos de su valor máximo o mínimo. En su lugar, estamos explorando todas las combinaciones para encontrar aquellas que satisfagan el criterio establecido."
      ],
      "metadata": {
        "id": "Ni5dAQ-agRit"
      }
    },
    {
      "cell_type": "markdown",
      "metadata": {
        "id": "rlnTYgY1j6I2"
      },
      "source": [
        "Diseña un algoritmo para resolver el problema por fuerza bruta"
      ]
    },
    {
      "cell_type": "markdown",
      "metadata": {
        "id": "70rDgxYXkC8r"
      },
      "source": [
        "# Fuerza bruta"
      ]
    },
    {
      "cell_type": "code",
      "metadata": {
        "id": "CJb5sQ0qkENy",
        "colab": {
          "base_uri": "https://localhost:8080/"
        },
        "outputId": "61091570-5ded-449d-fc65-f7c9ad9e3b39"
      },
      "source": [
        "# Listas de números y operadores\n",
        "numeros = [1, 2, 3, 4, 5, 6, 7, 8, 9]\n",
        "operadores = ['+', '-', '*', '/']\n",
        "\n",
        "# Generar todas las permutaciones posibles de 5 números y 4 operadores\n",
        "expresiones = []\n",
        "resultados = []\n",
        "for num_perm in permutations(numeros, 5):\n",
        "    for op_perm in permutations(operadores, 4):\n",
        "        expresion = \"{}{}{}{}{}{}{}{}{}\".format(num_perm[0], op_perm[0], num_perm[1], op_perm[1], num_perm[2], op_perm[2], num_perm[3], op_perm[3], num_perm[4])\n",
        "        try:\n",
        "            resultado = eval(expresion)\n",
        "            expresiones.append(expresion)\n",
        "            resultados.append(resultado)\n",
        "        except ZeroDivisionError:\n",
        "            pass\n",
        "\n",
        "# Crear un DataFrame con las expresiones y los resultados\n",
        "df = pd.DataFrame({'Expresión': expresiones, 'Resultado': resultados})\n",
        "\n",
        "minimo_fuerza_bruta = df['Resultado'].min()\n",
        "maximo_fuerza_bruta = df['Resultado'].max()\n",
        "\n",
        "filtered_df = df[df['Resultado'].isin([1, 2, 3, 4, 5, 6, 7, 8, 9])]\n",
        "\n",
        "\n",
        "# creación de df independientes\n",
        "\n",
        "# Crear un diccionario para almacenar los DataFrames independientes para cada valor único en 'Resultado'\n",
        "dfs_por_resultado = {}\n",
        "\n",
        "# Iterar sobre los valores únicos en 'Resultado'\n",
        "for resultado in filtered_df['Resultado'].unique():\n",
        "    # Filtrar el DataFrame original para el valor único en 'Resultado'\n",
        "    df_resultado = filtered_df[filtered_df['Resultado'] == resultado]\n",
        "    # Asignar el DataFrame filtrado al diccionario\n",
        "    dfs_por_resultado[f'df_{int(resultado)}'] = df_resultado\n",
        "\n",
        "\n",
        "df = df[df['Resultado'] == valor_objetivo]\n",
        "\n",
        "# Mostrar el DataFrame\n",
        "print(df)"
      ],
      "execution_count": null,
      "outputs": [
        {
          "output_type": "stream",
          "name": "stdout",
          "text": [
            "        Expresión  Resultado\n",
            "249     1-2*3/6+4        4.0\n",
            "299     1-2/3*6+7        4.0\n",
            "743     1/2*4-3+5        4.0\n",
            "862     1/2*4+5-3        4.0\n",
            "911     1/2*4-5+7        4.0\n",
            "...           ...        ...\n",
            "361446  9-8+6*1/2        4.0\n",
            "361567  9-8+6/2*1        4.0\n",
            "361614  9-8+6*2/4        4.0\n",
            "361831  9-8+6/4*2        4.0\n",
            "361905  9-8*6/4+7        4.0\n",
            "\n",
            "[2112 rows x 2 columns]\n"
          ]
        }
      ]
    },
    {
      "cell_type": "markdown",
      "source": [
        "- ¿Qué valor máximo y mínimo se pueden obtener según las condiciones del problema?\n",
        "\n",
        "- ¿Es posible encontrar todos los valores enteros posibles entre dicho mínimo y máximo ?"
      ],
      "metadata": {
        "id": "IiOogwSfNF0d"
      }
    },
    {
      "cell_type": "code",
      "source": [
        "print(\"Valor mínimo:\", minimo_fuerza_bruta)\n",
        "print(\"Valor máximo:\", maximo_fuerza_bruta)\n",
        "\n",
        "if minimo_fuerza_bruta < 1 and maximo_fuerza_bruta > 9:\n",
        "    print(\"Es posible encontrar todos los valores enteros posibles entre dicho mínimo y máximo\")\n",
        "else:\n",
        "    print(\"No es posible encontrar todos los valores enteros posibles entre dicho mínimo y máximo\")"
      ],
      "metadata": {
        "colab": {
          "base_uri": "https://localhost:8080/"
        },
        "id": "MYbmP2jiNHdR",
        "outputId": "d5c1a08c-2592-4ac5-ce20-8bb24ab3f003"
      },
      "execution_count": null,
      "outputs": [
        {
          "output_type": "stream",
          "name": "stdout",
          "text": [
            "Valor mínimo: -70.71428571428571\n",
            "Valor máximo: 78.83333333333333\n",
            "Es posible encontrar todos los valores enteros posibles entre dicho mínimo y máximo\n"
          ]
        }
      ]
    },
    {
      "cell_type": "markdown",
      "metadata": {
        "id": "tgrnsC2nkFa8"
      },
      "source": [
        "Calcula la complejidad del algoritmo por fuerza bruta\n",
        "\n",
        "Para analizar su complejidad, consideramos los siguientes pasos::"
      ]
    },
    {
      "cell_type": "markdown",
      "source": [
        "1. **Generar Permutaciones de Números**:\n",
        "    - Total de permutaciones posibles de 5 números seleccionados de una lista de 9:\n",
        "      $$ P(9, 5) = \\frac{9!}{(9-5)!} = 15120 $$\n",
        "\n",
        "2. **Generar Permutaciones de Operadores**:\n",
        "    - Total de permutaciones posibles de 4 operadores seleccionados de una lista de 4:\n",
        "      $$ P(4, 4) = 4! = 24 $$\n",
        "\n",
        "3. **Evaluar Expresiones**:\n",
        "    - Total de expresiones generadas y evaluadas:\n",
        "      $$ P(9, 5) \\times P(4, 4) = 15120 \\times 24 = 362880 $$\n",
        "\n",
        "### Conclusión\n",
        "\n",
        "La complejidad total del algoritmo es:\n",
        "\n",
        "$$ O(\\text{total}) = O(P(9, 5)) \\times O(P(4, 4)) = O(15120) \\times O(24) = O(362880) $$\n",
        "\n",
        "Esto se simplifica a:\n",
        "\n",
        "$$ O(\\text{total}) = O(n!) $$\n",
        "\n",
        "donde \\( n \\) es el número de elementos de los cuales se toman las permutaciones. En este caso específico:\n",
        "\n",
        "$$ O(9!) = O(362880) $$\n",
        "\n",
        "En resumen, la complejidad del algoritmo de fuerza bruta es factorial en la cantidad de números permutados, lo que lo hace altamente ineficiente para grandes conjuntos de entrada.\n"
      ],
      "metadata": {
        "id": "nllCXFwJ2wAy"
      }
    },
    {
      "cell_type": "markdown",
      "metadata": {
        "id": "txbrmLmskReM"
      },
      "source": [
        "(*)Diseña un algoritmo que mejore la complejidad del algortimo por fuerza bruta. Argumenta porque crees que mejora el algoritmo por fuerza bruta"
      ]
    },
    {
      "cell_type": "code",
      "source": [
        "# Acceder a los DataFrames independientes por su nombre\n",
        "\n",
        "df_1 = dfs_por_resultado['df_1']\n",
        "df_2 = dfs_por_resultado['df_2']\n",
        "df_3 = dfs_por_resultado['df_3']\n",
        "df_4 = dfs_por_resultado['df_4']\n",
        "df_5 = dfs_por_resultado['df_5']\n",
        "df_6 = dfs_por_resultado['df_6']\n",
        "df_7 = dfs_por_resultado['df_7']\n",
        "df_8 = dfs_por_resultado['df_8']\n",
        "df_9 = dfs_por_resultado['df_9']\n",
        "\n",
        "\n",
        "filtered_df['Resultado'].value_counts().sort_index()"
      ],
      "metadata": {
        "colab": {
          "base_uri": "https://localhost:8080/"
        },
        "id": "6PQRTjbM90a3",
        "outputId": "e8ac15b7-c2b2-4b0c-cd59-7ba072bbb597"
      },
      "execution_count": null,
      "outputs": [
        {
          "output_type": "execute_result",
          "data": {
            "text/plain": [
              "Resultado\n",
              "1.0    2008\n",
              "2.0    1688\n",
              "3.0    1952\n",
              "4.0    2112\n",
              "5.0    2880\n",
              "6.0    2200\n",
              "7.0    2824\n",
              "8.0    2376\n",
              "9.0    2584\n",
              "Name: count, dtype: int64"
            ]
          },
          "metadata": {},
          "execution_count": 120
        }
      ]
    },
    {
      "cell_type": "markdown",
      "metadata": {
        "id": "eGDB4K6uk1iN"
      },
      "source": [
        "(*)Calcula la complejidad del algoritmo"
      ]
    },
    {
      "cell_type": "markdown",
      "metadata": {
        "id": "NhpTh_BPk1ms"
      },
      "source": [
        "Estos números representan el número de expresiones válidas para cada resultado entero del 1 al 9.\n",
        "\n",
        "Si utilizas estos números para calcular la complejidad del algoritmo mejorado, puedes estimar la cantidad total de operaciones necesarias para generar todas las expresiones válidas para cada resultado y luego combinarlas en los DataFrames independientes.\n",
        "\n",
        "Por ejemplo, si sumamos estos números, obtenemos el total de expresiones válidas para todos los resultados:\n",
        "\n",
        "$$2008+1688+1952+2112+2880+2200+2824+2376+2584=20624$$\n",
        "\n",
        "Por lo tanto, con esta mejora, solo necesitarías evaluar un total de 20624 expresiones en lugar de las $9!=362880$ expresiones del enfoque de fuerza bruta original.\n",
        "\n",
        "Esta mejora en la complejidad es significativa y puede hacer que el algoritmo sea mucho más eficiente en términos de tiempo de ejecución y recursos computacionales requeridos. La reducción en el número de operaciones necesarias se traduce en un mejor rendimiento y una menor carga computacional."
      ]
    },
    {
      "cell_type": "markdown",
      "metadata": {
        "id": "3M6QjTsSkmYe"
      },
      "source": [
        "Según el problema (y tenga sentido), diseña un juego de datos de entrada aleatorios"
      ]
    },
    {
      "cell_type": "code",
      "metadata": {
        "id": "sJ-N2etjkyWc",
        "colab": {
          "base_uri": "https://localhost:8080/"
        },
        "outputId": "465451cd-c2f7-451c-96f8-f392a6cba657"
      },
      "source": [
        "# Pedir al usuario que ingrese el valor\n",
        "\n",
        "valor = input(\"Por favor ingrese un valor del 1 al 9: \")\n",
        "\n",
        "# Verificar si el valor ingresado está en el rango válido\n",
        "if valor.isdigit() and 1 <= int(valor) <= 9:\n",
        "    # Obtener el nombre del DataFrame correspondiente al valor ingresado\n",
        "    nombre_df = f'df_{valor}'\n",
        "    # Acceder al DataFrame usando el nombre\n",
        "    if nombre_df in globals():\n",
        "        df = globals()[nombre_df]\n",
        "        # Mostrar el DataFrame\n",
        "        print(df)\n",
        "    else:\n",
        "        print(f\"No existe un DataFrame para el valor {valor}.\")\n",
        "else:\n",
        "    print(\"El valor ingresado no es válido.\")\n",
        "\n"
      ],
      "execution_count": null,
      "outputs": [
        {
          "output_type": "stream",
          "name": "stdout",
          "text": [
            "Por favor ingrese un valor del 1 al 9: 7\n",
            "        Expresión  Resultado\n",
            "297     1-2*3/6+7        7.0\n",
            "751     1-2+4/3*6        7.0\n",
            "815     1/2*4-3+8        7.0\n",
            "962     1+2*4-6/3        7.0\n",
            "966     1-2+4*6/3        7.0\n",
            "...           ...        ...\n",
            "361672  9*8/6+2-7        7.0\n",
            "361715  9-8/6*3+2        7.0\n",
            "361753  9+8-6/3*5        7.0\n",
            "361968  9+8-6*5/3        7.0\n",
            "362081  9*8/6-7+2        7.0\n",
            "\n",
            "[2824 rows x 2 columns]\n"
          ]
        }
      ]
    },
    {
      "cell_type": "markdown",
      "metadata": {
        "id": "zy5ZROmjlGo1"
      },
      "source": [
        "Aplica el algoritmo al juego de datos generado\n",
        "\n",
        "\n"
      ]
    },
    {
      "cell_type": "markdown",
      "metadata": {
        "id": "eTFWUJQrtGcv"
      },
      "source": [
        "Enumera las referencias que has utilizado(si ha sido necesario) para llevar a cabo el trabajo"
      ]
    },
    {
      "cell_type": "markdown",
      "metadata": {
        "id": "YKQ_mRBttWsP"
      },
      "source": [
        "Respuesta"
      ]
    },
    {
      "cell_type": "markdown",
      "metadata": {
        "id": "kAkDPUyRtYyH"
      },
      "source": [
        "Describe brevemente las lineas de como crees que es posible avanzar en el estudio del problema. Ten en cuenta incluso posibles variaciones del problema y/o variaciones al alza del tamaño"
      ]
    },
    {
      "cell_type": "markdown",
      "metadata": {
        "id": "IE0uZmo-tZu-"
      },
      "source": [
        "Para avanzar en el estudio del problema y mejorar el enfoque de fuerza bruta, se pueden considerar varias estrategias:\n",
        "\n",
        "* Optimización del algoritmo de fuerza bruta: Aunque el enfoque de fuerza bruta es simple, se puede mejorar optimizando el código para reducir el tiempo de ejecución. Por ejemplo, se pueden evitar cálculos redundantes o implementar técnicas de poda para eliminar ramas innecesarias en la búsqueda de soluciones.\n",
        "\n",
        "* Implementación de algoritmos más eficientes: En lugar de generar todas las permutaciones posibles y evaluar cada una, se pueden explorar algoritmos más eficientes, como la programación dinámica o el uso de estructuras de datos especializadas, que pueden reducir significativamente el tiempo de ejecución.\n",
        "\n",
        "* Consideración de variaciones del problema: El problema actual implica encontrar expresiones que den como resultado números enteros específicos. Se puede considerar la posibilidad de extender el problema para permitir números no enteros o para buscar expresiones que se aproximen a un valor objetivo en lugar de ser exactamente iguales.\n",
        "\n",
        "* Escalabilidad del algoritmo: Si se necesita manejar tamaños de problema más grandes, es crucial asegurarse de que el algoritmo pueda escalar eficientemente. Esto implica diseñar estructuras de datos y algoritmos que sean eficientes incluso para tamaños de entrada grandes.\n",
        "\n",
        "* Exploración de paralelismo y distribución: Para acelerar el procesamiento en sistemas con múltiples núcleos o en entornos distribuidos, se puede explorar la posibilidad de paralelizar el algoritmo o distribuir la carga de trabajo entre varios dispositivos."
      ]
    }
  ]
}