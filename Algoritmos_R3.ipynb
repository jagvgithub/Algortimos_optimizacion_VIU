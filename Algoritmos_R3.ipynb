{
  "nbformat": 4,
  "nbformat_minor": 0,
  "metadata": {
    "colab": {
      "provenance": [],
      "include_colab_link": true
    },
    "kernelspec": {
      "name": "python3",
      "display_name": "Python 3"
    }
  },
  "cells": [
    {
      "cell_type": "markdown",
      "metadata": {
        "id": "view-in-github",
        "colab_type": "text"
      },
      "source": [
        "<a href=\"https://colab.research.google.com/github/jagvgithub/Algortimos_optimizacion_VIU/blob/main/Algoritmos_R3.ipynb\" target=\"_parent\"><img src=\"https://colab.research.google.com/assets/colab-badge.svg\" alt=\"Open In Colab\"/></a>"
      ]
    },
    {
      "cell_type": "markdown",
      "source": [
        "# Algoritmos de optimización - Reto 3\n",
        "\n",
        "## Implementar el algoritmo de búsqueda tabú para el TSP de la AG3.\n",
        "\n",
        "Nombre: Jose Antonio Gómez Vargas\n",
        "\n",
        "Github: [Enlace directo a Github](https://github.com/jagvgithub/Algortimos_optimizacion_VIU/blob/main/Algoritmos_R3.ipynb)\n",
        "\n",
        "- https://github.com/jagvgithub/Algortimos_optimizacion_VIU/blob/main/Algoritmos_R3.ipynb"
      ],
      "metadata": {
        "id": "Ioe7fnU8vAks"
      }
    },
    {
      "cell_type": "markdown",
      "source": [
        "#Carga de librerias"
      ],
      "metadata": {
        "id": "m-gbxt9BFfdN"
      }
    },
    {
      "cell_type": "code",
      "metadata": {
        "id": "qP-Y3Gkfc4vn",
        "colab": {
          "base_uri": "https://localhost:8080/"
        },
        "outputId": "1f91473d-6859-464c-8407-99b13d3d2d73",
        "collapsed": true
      },
      "source": [
        "!pip install requests    #Hacer llamadas http a paginas de la red\n",
        "!pip install tsplib95    #Modulo para las instancias del problema del TSP"
      ],
      "execution_count": 1,
      "outputs": [
        {
          "output_type": "stream",
          "name": "stdout",
          "text": [
            "Requirement already satisfied: requests in /usr/local/lib/python3.10/dist-packages (2.31.0)\n",
            "Requirement already satisfied: charset-normalizer<4,>=2 in /usr/local/lib/python3.10/dist-packages (from requests) (3.3.2)\n",
            "Requirement already satisfied: idna<4,>=2.5 in /usr/local/lib/python3.10/dist-packages (from requests) (3.7)\n",
            "Requirement already satisfied: urllib3<3,>=1.21.1 in /usr/local/lib/python3.10/dist-packages (from requests) (2.0.7)\n",
            "Requirement already satisfied: certifi>=2017.4.17 in /usr/local/lib/python3.10/dist-packages (from requests) (2024.6.2)\n",
            "Collecting tsplib95\n",
            "  Downloading tsplib95-0.7.1-py2.py3-none-any.whl (25 kB)\n",
            "Requirement already satisfied: Click>=6.0 in /usr/local/lib/python3.10/dist-packages (from tsplib95) (8.1.7)\n",
            "Collecting Deprecated~=1.2.9 (from tsplib95)\n",
            "  Downloading Deprecated-1.2.14-py2.py3-none-any.whl (9.6 kB)\n",
            "Collecting networkx~=2.1 (from tsplib95)\n",
            "  Downloading networkx-2.8.8-py3-none-any.whl (2.0 MB)\n",
            "\u001b[2K     \u001b[90m━━━━━━━━━━━━━━━━━━━━━━━━━━━━━━━━━━━━━━━━\u001b[0m \u001b[32m2.0/2.0 MB\u001b[0m \u001b[31m20.3 MB/s\u001b[0m eta \u001b[36m0:00:00\u001b[0m\n",
            "\u001b[?25hCollecting tabulate~=0.8.7 (from tsplib95)\n",
            "  Downloading tabulate-0.8.10-py3-none-any.whl (29 kB)\n",
            "Requirement already satisfied: wrapt<2,>=1.10 in /usr/local/lib/python3.10/dist-packages (from Deprecated~=1.2.9->tsplib95) (1.14.1)\n",
            "Installing collected packages: tabulate, networkx, Deprecated, tsplib95\n",
            "  Attempting uninstall: tabulate\n",
            "    Found existing installation: tabulate 0.9.0\n",
            "    Uninstalling tabulate-0.9.0:\n",
            "      Successfully uninstalled tabulate-0.9.0\n",
            "  Attempting uninstall: networkx\n",
            "    Found existing installation: networkx 3.3\n",
            "    Uninstalling networkx-3.3:\n",
            "      Successfully uninstalled networkx-3.3\n",
            "\u001b[31mERROR: pip's dependency resolver does not currently take into account all the packages that are installed. This behaviour is the source of the following dependency conflicts.\n",
            "torch 2.3.0+cu121 requires nvidia-cublas-cu12==12.1.3.1; platform_system == \"Linux\" and platform_machine == \"x86_64\", which is not installed.\n",
            "torch 2.3.0+cu121 requires nvidia-cuda-cupti-cu12==12.1.105; platform_system == \"Linux\" and platform_machine == \"x86_64\", which is not installed.\n",
            "torch 2.3.0+cu121 requires nvidia-cuda-nvrtc-cu12==12.1.105; platform_system == \"Linux\" and platform_machine == \"x86_64\", which is not installed.\n",
            "torch 2.3.0+cu121 requires nvidia-cuda-runtime-cu12==12.1.105; platform_system == \"Linux\" and platform_machine == \"x86_64\", which is not installed.\n",
            "torch 2.3.0+cu121 requires nvidia-cudnn-cu12==8.9.2.26; platform_system == \"Linux\" and platform_machine == \"x86_64\", which is not installed.\n",
            "torch 2.3.0+cu121 requires nvidia-cufft-cu12==11.0.2.54; platform_system == \"Linux\" and platform_machine == \"x86_64\", which is not installed.\n",
            "torch 2.3.0+cu121 requires nvidia-curand-cu12==10.3.2.106; platform_system == \"Linux\" and platform_machine == \"x86_64\", which is not installed.\n",
            "torch 2.3.0+cu121 requires nvidia-cusolver-cu12==11.4.5.107; platform_system == \"Linux\" and platform_machine == \"x86_64\", which is not installed.\n",
            "torch 2.3.0+cu121 requires nvidia-cusparse-cu12==12.1.0.106; platform_system == \"Linux\" and platform_machine == \"x86_64\", which is not installed.\n",
            "torch 2.3.0+cu121 requires nvidia-nccl-cu12==2.20.5; platform_system == \"Linux\" and platform_machine == \"x86_64\", which is not installed.\n",
            "torch 2.3.0+cu121 requires nvidia-nvtx-cu12==12.1.105; platform_system == \"Linux\" and platform_machine == \"x86_64\", which is not installed.\n",
            "bigframes 1.11.0 requires tabulate>=0.9, but you have tabulate 0.8.10 which is incompatible.\u001b[0m\u001b[31m\n",
            "\u001b[0mSuccessfully installed Deprecated-1.2.14 networkx-2.8.8 tabulate-0.8.10 tsplib95-0.7.1\n"
          ]
        }
      ]
    },
    {
      "cell_type": "markdown",
      "source": [
        "---\n",
        "# Carga de los datos del problema\n",
        "---"
      ],
      "metadata": {
        "id": "nHRiJhTnFmuV"
      }
    },
    {
      "cell_type": "code",
      "metadata": {
        "id": "mnA47nhtdKOc",
        "outputId": "d285129e-28c7-4c3b-91ba-64101c836866",
        "colab": {
          "base_uri": "https://localhost:8080/"
        }
      },
      "source": [
        "import urllib.request #Hacer llamadas http a paginas de la red\n",
        "import tsplib95       #Modulo para las instancias del problema del TSP\n",
        "import math           #Modulo de funciones matematicas. Se usa para exp\n",
        "import random         #Para generar valores aleatorios\n",
        "\n",
        "\n",
        "#http://elib.zib.de/pub/mp-testdata/tsp/tsplib/\n",
        "#Documentacion :\n",
        "  # http://comopt.ifi.uni-heidelberg.de/software/TSPLIB95/tsp95.pdf\n",
        "  # https://tsplib95.readthedocs.io/en/stable/pages/usage.html\n",
        "  # https://tsplib95.readthedocs.io/en/v0.6.1/modules.html\n",
        "  # https://pypi.org/project/tsplib95/\n",
        "\n",
        "#Descargamos el fichero de datos(Matriz de distancias)\n",
        "file = \"swiss42.tsp\" ;\n",
        "urllib.request.urlretrieve(\"http://comopt.ifi.uni-heidelberg.de/software/TSPLIB95/tsp/swiss42.tsp.gz\", file + '.gz')\n",
        "!gzip -d swiss42.tsp.gz     #Descomprimir el fichero de datos"
      ],
      "execution_count": 42,
      "outputs": [
        {
          "output_type": "stream",
          "name": "stdout",
          "text": [
            "gzip: swiss42.tsp already exists; do you wish to overwrite (y or n)? y\n"
          ]
        }
      ]
    },
    {
      "cell_type": "code",
      "metadata": {
        "id": "RIXYkDWcfmwd"
      },
      "source": [
        "#Carga de datos y generación de objeto problem\n",
        "###############################################################################\n",
        "problem = tsplib95.load(file)\n",
        "\n",
        "#Nodos\n",
        "Nodos = list(problem.get_nodes())\n",
        "\n",
        "#Aristas\n",
        "Aristas = list(problem.get_edges())\n",
        "\n"
      ],
      "execution_count": 43,
      "outputs": []
    },
    {
      "cell_type": "code",
      "metadata": {
        "id": "a7bTofSnn_Jt",
        "colab": {
          "base_uri": "https://localhost:8080/"
        },
        "outputId": "17d91717-a8fc-4f11-bb7f-aa98be37b881"
      },
      "source": [
        "#Probamos algunas funciones del objeto problem\n",
        "\n",
        "#Distancia entre nodos\n",
        "problem.get_weight(0, 1)\n",
        "\n",
        "#Todas las funciones\n",
        "#Documentación: https://tsplib95.readthedocs.io/en/v0.6.1/modules.html\n",
        "\n",
        "#dir(problem)"
      ],
      "execution_count": 44,
      "outputs": [
        {
          "output_type": "execute_result",
          "data": {
            "text/plain": [
              "15"
            ]
          },
          "metadata": {},
          "execution_count": 44
        }
      ]
    },
    {
      "cell_type": "markdown",
      "source": [
        "#Funcionas basicas\n"
      ],
      "metadata": {
        "id": "BpwtaRQIFYvO"
      }
    },
    {
      "cell_type": "code",
      "metadata": {
        "id": "tzrkaBS3gmmz",
        "collapsed": true,
        "outputId": "8f933e5c-fe30-4811-a966-bb5468da873a",
        "colab": {
          "base_uri": "https://localhost:8080/"
        }
      },
      "source": [
        "\n",
        "#Funcionas basicas\n",
        "###############################################################################\n",
        "\n",
        "#Se genera una solucion aleatoria con comienzo en en el nodo 0\n",
        "def crear_solucion(Nodos):\n",
        "  solucion = [Nodos[0]]\n",
        "  for n in Nodos[1:]:\n",
        "    solucion = solucion + [random.choice(list(set(Nodos) - set({Nodos[0]}) - set(solucion)))]\n",
        "  return solucion\n",
        "\n",
        "#Devuelve la distancia entre dos nodos\n",
        "def distancia(a,b, problem):\n",
        "  return problem.get_weight(a,b)\n",
        "\n",
        "#Devuelve la distancia total de una trayectoria/solucion\n",
        "def distancia_total(solucion, problem):\n",
        "  distancia_total = 0\n",
        "  for i in range(len(solucion)-1):\n",
        "    distancia_total += distancia(solucion[i] ,solucion[i+1] ,  problem)\n",
        "  return distancia_total + distancia(solucion[len(solucion)-1] ,solucion[0], problem)\n",
        "\n",
        "sol_temporal = crear_solucion(Nodos)\n",
        "\n",
        "distancia_total(sol_temporal, problem), sol_temporal\n",
        "\n",
        "print('Creación de funciones realizado con éxito')"
      ],
      "execution_count": 45,
      "outputs": [
        {
          "output_type": "stream",
          "name": "stdout",
          "text": [
            "Creación de funciones realizado con éxito\n"
          ]
        }
      ]
    },
    {
      "cell_type": "markdown",
      "source": [
        "---\n",
        "# Búsqueda Aleatoria\n",
        "\n",
        "---"
      ],
      "metadata": {
        "id": "zfwRoUPDYVTr"
      }
    },
    {
      "cell_type": "code",
      "source": [
        "###############################################################################\n",
        "# BUSQUEDA ALEATORIA\n",
        "###############################################################################\n",
        "\n",
        "def busqueda_aleatoria(problem, N):\n",
        "  #N es el numero de iteraciones\n",
        "  Nodos = list(problem.get_nodes())\n",
        "\n",
        "  mejor_solucion = []\n",
        "  #mejor_distancia = 10e100                         #Inicializamos con un valor alto\n",
        "  mejor_distancia = float('inf')                    #Inicializamos con un valor alto\n",
        "\n",
        "  for i in range(N):                                #Criterio de parada: repetir N veces pero podemos incluir otros\n",
        "    solucion = crear_solucion(Nodos)                #Genera una solucion aleatoria\n",
        "    distancia = distancia_total(solucion, problem)  #Calcula el valor objetivo(distancia total)\n",
        "\n",
        "    if distancia < mejor_distancia:                 #Compara con la mejor obtenida hasta ahora\n",
        "      mejor_solucion = solucion\n",
        "      mejor_distancia = distancia\n",
        "\n",
        "\n",
        "  print(\"Mejor solución:\" , mejor_solucion)\n",
        "  print(\"Distancia     :\" , mejor_distancia)\n",
        "  return mejor_solucion\n",
        "\n",
        "\n",
        "#Busqueda aleatoria con 5000 iteraciones\n",
        "solucion = busqueda_aleatoria(problem, 10000)\n"
      ],
      "metadata": {
        "id": "U7FEJ5OHG2vl",
        "colab": {
          "base_uri": "https://localhost:8080/"
        },
        "outputId": "c4a043d8-89a1-4ec2-acd1-7a24e8304817"
      },
      "execution_count": 47,
      "outputs": [
        {
          "output_type": "stream",
          "name": "stdout",
          "text": [
            "Mejor solución: [0, 30, 35, 20, 31, 14, 12, 13, 32, 11, 9, 24, 39, 38, 1, 10, 3, 37, 33, 34, 2, 6, 8, 18, 36, 17, 28, 40, 21, 25, 41, 23, 4, 29, 22, 19, 26, 5, 27, 16, 7, 15]\n",
            "Distancia     : 3558\n"
          ]
        }
      ]
    },
    {
      "cell_type": "markdown",
      "source": [
        "\n",
        "---\n",
        "# Búsqueda Local\n",
        "---"
      ],
      "metadata": {
        "id": "gxyEjqm8YZIk"
      }
    },
    {
      "cell_type": "code",
      "source": [
        "###############################################################################\n",
        "# BUSQUEDA LOCAL\n",
        "###############################################################################\n",
        "def genera_vecina(solucion):\n",
        "  #Generador de soluciones vecinas: 2-opt (intercambiar 2 nodos) Si hay N nodos se generan (N-1)x(N-2)/2 soluciones\n",
        "  #Se puede modificar para aplicar otros generadores distintos que 2-opt\n",
        "  #print(solucion)\n",
        "  mejor_solucion = []\n",
        "  mejor_distancia = 10e100\n",
        "  for i in range(1,len(solucion)-1):          #Recorremos todos los nodos en bucle doble para evaluar todos los intercambios 2-opt\n",
        "    for j in range(i+1, len(solucion)):\n",
        "\n",
        "      #Se genera una nueva solución intercambiando los dos nodos i,j:\n",
        "      #  (usamos el operador + que para listas en python las concatena) : ej.: [1,2] + [3] = [1,2,3]\n",
        "      vecina = solucion[:i] + [solucion[j]] + solucion[i+1:j] + [solucion[i]] + solucion[j+1:]\n",
        "\n",
        "      #Se evalua la nueva solución ...\n",
        "      distancia_vecina = distancia_total(vecina, problem)\n",
        "\n",
        "      #... para guardarla si mejora las anteriores\n",
        "      if distancia_vecina <= mejor_distancia:\n",
        "        mejor_distancia = distancia_vecina\n",
        "        mejor_solucion = vecina\n",
        "  return mejor_solucion\n",
        "\n",
        "\n",
        "#solucion = [1, 47, 13, 41, 40, 19, 42, 44, 37, 5, 22, 28, 3, 2, 29, 21, 50, 34, 30, 9, 16, 11, 38, 49, 10, 39, 33, 45, 15, 24, 43, 26, 31, 36, 35, 20, 8, 7, 23, 48, 27, 12, 17, 4, 18, 25, 14, 6, 51, 46, 32]\n",
        "print(\"Distancia Solucion Incial:\" , distancia_total(solucion, problem))\n",
        "\n",
        "\n",
        "nueva_solucion = genera_vecina(solucion)\n",
        "print(\"Distancia Mejor Solucion Local:\", distancia_total(nueva_solucion, problem))\n",
        "\n"
      ],
      "metadata": {
        "colab": {
          "base_uri": "https://localhost:8080/"
        },
        "id": "sOo-N3yIX7bp",
        "outputId": "21916d70-20c6-4e0f-837b-22b2412afb9c"
      },
      "execution_count": 48,
      "outputs": [
        {
          "output_type": "stream",
          "name": "stdout",
          "text": [
            "Distancia Solucion Incial: 3558\n",
            "Distancia Mejor Solucion Local: 3365\n"
          ]
        }
      ]
    },
    {
      "cell_type": "code",
      "source": [
        "#Busqueda Local:\n",
        "#  - Sobre el operador de vecindad 2-opt(funcion genera_vecina)\n",
        "#  - Sin criterio de parada, se para cuando no es posible mejorar.\n",
        "def busqueda_local(problem):\n",
        "  mejor_solucion = []\n",
        "\n",
        "  #Generar una solucion inicial de referencia(aleatoria)\n",
        "  solucion_referencia = crear_solucion(Nodos)\n",
        "  mejor_distancia = distancia_total(solucion_referencia, problem)\n",
        "\n",
        "  iteracion=0             #Un contador para saber las iteraciones que hacemos\n",
        "  while(1):\n",
        "    iteracion +=1         #Incrementamos el contador\n",
        "    #print('#',iteracion)\n",
        "\n",
        "    #Obtenemos la mejor vecina ...\n",
        "    vecina = genera_vecina(solucion_referencia)\n",
        "\n",
        "    #... y la evaluamos para ver si mejoramos respecto a lo encontrado hasta el momento\n",
        "    distancia_vecina = distancia_total(vecina, problem)\n",
        "\n",
        "    #Si no mejoramos hay que terminar. Hemos llegado a un minimo local(según nuestro operador de vencindad 2-opt)\n",
        "    if distancia_vecina < mejor_distancia:\n",
        "      #mejor_solucion = copy.deepcopy(vecina)   #Con copia profunda. Las copias en python son por referencia\n",
        "      mejor_solucion = vecina                   #Guarda la mejor solución encontrada\n",
        "      mejor_distancia = distancia_vecina\n",
        "\n",
        "    else:\n",
        "      print(\"En la iteracion \", iteracion, \", la mejor solución encontrada es:\" , mejor_solucion)\n",
        "      print(\"Distancia     :\" , mejor_distancia)\n",
        "      return mejor_solucion\n",
        "\n",
        "    solucion_referencia = vecina\n",
        "\n",
        "\n",
        "sol = busqueda_local(problem )"
      ],
      "metadata": {
        "colab": {
          "base_uri": "https://localhost:8080/"
        },
        "id": "2DKvldWcYOU9",
        "outputId": "f54091ec-8c22-46c5-ce5e-706c9285410d"
      },
      "execution_count": 49,
      "outputs": [
        {
          "output_type": "stream",
          "name": "stdout",
          "text": [
            "En la iteracion  47 , la mejor solución encontrada es: [0, 1, 6, 3, 27, 2, 4, 26, 5, 19, 13, 10, 8, 9, 21, 40, 24, 39, 22, 38, 30, 28, 14, 16, 15, 37, 17, 36, 35, 31, 7, 18, 12, 11, 25, 41, 23, 29, 32, 34, 33, 20]\n",
            "Distancia     : 1642\n"
          ]
        }
      ]
    },
    {
      "cell_type": "markdown",
      "source": [
        "---\n",
        "# Recocido Simulado\n",
        "\n",
        "---\n"
      ],
      "metadata": {
        "id": "iaHHKQeeYiDl"
      }
    },
    {
      "cell_type": "code",
      "source": [
        "###############################################################################\n",
        "# SIMULATED ANNEALING\n",
        "###############################################################################\n",
        "\n",
        "#Generador de 1 solucion vecina 2-opt 100% aleatoria (intercambiar 2 nodos)\n",
        "#Mejorable eligiendo otra forma de elegir una vecina.\n",
        "def genera_vecina_aleatorio(solucion):\n",
        "\n",
        "  #Se eligen dos nodos aleatoriamente\n",
        "  i,j = sorted(random.sample( range(1,len(solucion)) , 2))\n",
        "\n",
        "  #Devuelve una nueva solución pero intercambiando los dos nodos elegidos al azar\n",
        "  return solucion[:i] + [solucion[j]] + solucion[i+1:j] + [solucion[i]] + solucion[j+1:]\n",
        "\n",
        "\n",
        "#Funcion de probabilidad para aceptar peores soluciones\n",
        "def probabilidad(T,d):\n",
        "  if random.random() <  math.exp( -1*d / T)  :\n",
        "    return True\n",
        "  else:\n",
        "    return False\n",
        "\n",
        "#Funcion de descenso de temperatura\n",
        "def bajar_temperatura(T):\n",
        "  return T*0.99"
      ],
      "metadata": {
        "id": "pd1kIWnoYbu8"
      },
      "execution_count": 50,
      "outputs": []
    },
    {
      "cell_type": "code",
      "source": [
        "def recocido_simulado(problem, TEMPERATURA ):\n",
        "  #problem = datos del problema\n",
        "  #T = Temperatura\n",
        "\n",
        "  solucion_referencia = crear_solucion(Nodos)\n",
        "  distancia_referencia = distancia_total(solucion_referencia, problem)\n",
        "\n",
        "  mejor_solucion = []             #x* del seudocodigo\n",
        "  mejor_distancia = 10e100        #F* del seudocodigo\n",
        "\n",
        "\n",
        "  N=0\n",
        "  while TEMPERATURA > .0001:\n",
        "    N+=1\n",
        "    #Genera una solución vecina\n",
        "    vecina =genera_vecina_aleatorio(solucion_referencia)\n",
        "\n",
        "    #Calcula su valor(distancia)\n",
        "    distancia_vecina = distancia_total(vecina, problem)\n",
        "\n",
        "    #Si es la mejor solución de todas se guarda(siempre!!!)\n",
        "    if distancia_vecina < mejor_distancia:\n",
        "        mejor_solucion = vecina\n",
        "        mejor_distancia = distancia_vecina\n",
        "\n",
        "    #Si la nueva vecina es mejor se cambia\n",
        "    #Si es peor se cambia según una probabilidad que depende de T y delta(distancia_referencia - distancia_vecina)\n",
        "    if distancia_vecina < distancia_referencia or probabilidad(TEMPERATURA, abs(distancia_referencia - distancia_vecina) ) :\n",
        "      #solucion_referencia = copy.deepcopy(vecina)\n",
        "      solucion_referencia = vecina\n",
        "      distancia_referencia = distancia_vecina\n",
        "\n",
        "    #Bajamos la temperatura\n",
        "    TEMPERATURA = bajar_temperatura(TEMPERATURA)\n",
        "\n",
        "  print(\"La mejor solución encontrada es \" , end=\"\")\n",
        "  print(mejor_solucion)\n",
        "  print(\"con una distancia total de \" , end=\"\")\n",
        "  print(mejor_distancia)\n",
        "  return mejor_solucion\n",
        "\n",
        "sol  = recocido_simulado(problem, 10000000)"
      ],
      "metadata": {
        "colab": {
          "base_uri": "https://localhost:8080/"
        },
        "id": "G0-O20XqYmk-",
        "outputId": "4089e19b-4e38-4a0f-9569-2bd44c07d2fc"
      },
      "execution_count": 51,
      "outputs": [
        {
          "output_type": "stream",
          "name": "stdout",
          "text": [
            "La mejor solución encontrada es [0, 38, 22, 41, 23, 40, 24, 21, 39, 9, 30, 33, 31, 7, 15, 16, 14, 13, 19, 5, 26, 6, 4, 12, 11, 17, 37, 36, 35, 20, 34, 32, 28, 29, 8, 10, 25, 18, 1, 3, 27, 2]\n",
            "con una distancia total de 1956\n"
          ]
        }
      ]
    },
    {
      "cell_type": "markdown",
      "source": [
        "---\n",
        "# Implementación de búsqueda Tabú\n",
        "---"
      ],
      "metadata": {
        "id": "1zBWhL1dnxYN"
      }
    },
    {
      "cell_type": "code",
      "source": [
        "import tsplib95\n",
        "import random\n",
        "import copy\n",
        "\n",
        "# Función para generar una solución inicial aleatoria\n",
        "def crear_solucion_inicial(nodos):\n",
        "    solucion = nodos[:]\n",
        "    random.shuffle(solucion)\n",
        "    return solucion\n",
        "\n",
        "# Función para calcular la distancia total de una solución\n",
        "def distancia_total(solucion, problem):\n",
        "    distancia_total = 0\n",
        "    for i in range(len(solucion) - 1):\n",
        "        distancia_total += problem.get_weight(solucion[i], solucion[i+1])\n",
        "    distancia_total += problem.get_weight(solucion[-1], solucion[0])  # Volver al nodo inicial\n",
        "    return distancia_total\n",
        "\n",
        "# Función para generar el vecindario (intercambiar dos nodos)\n",
        "def generar_vecindario(solucion):\n",
        "    vecindario = []\n",
        "    for i in range(len(solucion)):\n",
        "        for j in range(i + 1, len(solucion)):\n",
        "            vecino = solucion[:]\n",
        "            vecino[i], vecino[j] = vecino[j], vecino[i]\n",
        "            vecindario.append(vecino)\n",
        "    return vecindario\n",
        "\n",
        "# Función de búsqueda tabú\n",
        "def busqueda_tabu(problem, nodos, iteraciones, tamaño_tabu):\n",
        "    solucion_actual = crear_solucion_inicial(nodos)\n",
        "    mejor_solucion = solucion_actual[:]\n",
        "    mejor_distancia = distancia_total(mejor_solucion, problem)\n",
        "\n",
        "    lista_tabu = []\n",
        "\n",
        "    for _ in range(iteraciones):\n",
        "        vecindario = generar_vecindario(solucion_actual)\n",
        "        vecino_optimo = None\n",
        "        distancia_optima = float('inf')\n",
        "\n",
        "        for vecino in vecindario:\n",
        "            if vecino not in lista_tabu:\n",
        "                distancia_vecino = distancia_total(vecino, problem)\n",
        "                if distancia_vecino < distancia_optima:\n",
        "                    vecino_optimo = vecino\n",
        "                    distancia_optima = distancia_vecino\n",
        "\n",
        "        if distancia_optima < mejor_distancia:\n",
        "            mejor_solucion = vecino_optimo[:]\n",
        "            mejor_distancia = distancia_optima\n",
        "\n",
        "        solucion_actual = vecino_optimo[:]\n",
        "        lista_tabu.append(solucion_actual)\n",
        "        if len(lista_tabu) > tamaño_tabu:\n",
        "            lista_tabu.pop(0)\n",
        "\n",
        "    return mejor_solucion, mejor_distancia\n",
        "\n",
        "# Cargar el problema TSP\n",
        "file = \"swiss42.tsp\"\n",
        "problem = tsplib95.load(file)\n",
        "\n",
        "# Obtener la lista de nodos\n",
        "nodos = list(problem.get_nodes())\n",
        "\n",
        "# Realizar la búsqueda tabú\n",
        "iteraciones = 1000\n",
        "tamaño_tabu = 50\n",
        "mejor_solucion, mejor_distancia = busqueda_tabu(problem, nodos, iteraciones, tamaño_tabu)\n",
        "\n",
        "print(\"Mejor solución:\", mejor_solucion)\n",
        "print(\"Distancia de la mejor solución:\", mejor_distancia)\n"
      ],
      "metadata": {
        "id": "aA7TzN4Wn122",
        "outputId": "f9868eb1-54bd-4c77-c101-f98f521dd950",
        "colab": {
          "base_uri": "https://localhost:8080/"
        }
      },
      "execution_count": 53,
      "outputs": [
        {
          "output_type": "stream",
          "name": "stdout",
          "text": [
            "Mejor solución: [20, 19, 13, 5, 26, 4, 6, 14, 16, 15, 37, 7, 1, 3, 0, 31, 17, 36, 35, 33, 38, 22, 39, 23, 41, 10, 18, 12, 11, 25, 40, 24, 21, 9, 8, 29, 30, 28, 2, 27, 32, 34]\n",
            "Distancia de la mejor solución: 1707\n"
          ]
        }
      ]
    },
    {
      "cell_type": "markdown",
      "source": [
        "---\n",
        "# Entrega de resultados\n",
        "---"
      ],
      "metadata": {
        "id": "W3182tfF1sh-"
      }
    },
    {
      "cell_type": "code",
      "source": [
        "import pandas as pd\n",
        "from IPython.display import display\n",
        "\n",
        "# Crear un diccionario con los datos\n",
        "data = {\n",
        "    'Método': [\"BÚSQUEDA ALEATORIA\", \"BÚSQUEDA LOCAL\", \"RECOCIDO SIMULADO\", \"BUSQUEDA TABÚ\"],\n",
        "    'Distancia': [3558, 3365, 1956, 1707]\n",
        "}\n",
        "\n",
        "# Convertir el diccionario en un DataFrame\n",
        "df = pd.DataFrame(data)\n",
        "\n",
        "# Ordenar el DataFrame por el campo 'Distancia' de menor a mayor\n",
        "df_ordenado = df.sort_values(by='Distancia')\n",
        "\n",
        "# Definir una función para aplicar color a los valores\n",
        "def color_distancia(val):\n",
        "    color = 'red' if val > 3000 else 'green' if val < 2000 else 'orange'\n",
        "    return f'color: {color}'\n",
        "\n",
        "# Aplicar la función de estilo\n",
        "df_styled = df_ordenado.style.applymap(color_distancia, subset=['Distancia'])\n",
        "\n",
        "# Mostrar el DataFrame estilizado\n",
        "display(df_styled)\n"
      ],
      "metadata": {
        "id": "vAC2bUGB1cdR",
        "outputId": "d298cbbd-7a66-4cce-f36f-9757653f97fa",
        "colab": {
          "base_uri": "https://localhost:8080/",
          "height": 175
        }
      },
      "execution_count": 55,
      "outputs": [
        {
          "output_type": "display_data",
          "data": {
            "text/plain": [
              "<pandas.io.formats.style.Styler at 0x7bb7cdc3d780>"
            ],
            "text/html": [
              "<style type=\"text/css\">\n",
              "#T_cefb8_row0_col1, #T_cefb8_row1_col1 {\n",
              "  color: green;\n",
              "}\n",
              "#T_cefb8_row2_col1, #T_cefb8_row3_col1 {\n",
              "  color: red;\n",
              "}\n",
              "</style>\n",
              "<table id=\"T_cefb8\" class=\"dataframe\">\n",
              "  <thead>\n",
              "    <tr>\n",
              "      <th class=\"blank level0\" >&nbsp;</th>\n",
              "      <th id=\"T_cefb8_level0_col0\" class=\"col_heading level0 col0\" >Método</th>\n",
              "      <th id=\"T_cefb8_level0_col1\" class=\"col_heading level0 col1\" >Distancia</th>\n",
              "    </tr>\n",
              "  </thead>\n",
              "  <tbody>\n",
              "    <tr>\n",
              "      <th id=\"T_cefb8_level0_row0\" class=\"row_heading level0 row0\" >3</th>\n",
              "      <td id=\"T_cefb8_row0_col0\" class=\"data row0 col0\" >BUSQUEDA TABÚ</td>\n",
              "      <td id=\"T_cefb8_row0_col1\" class=\"data row0 col1\" >1707</td>\n",
              "    </tr>\n",
              "    <tr>\n",
              "      <th id=\"T_cefb8_level0_row1\" class=\"row_heading level0 row1\" >2</th>\n",
              "      <td id=\"T_cefb8_row1_col0\" class=\"data row1 col0\" >RECOCIDO SIMULADO</td>\n",
              "      <td id=\"T_cefb8_row1_col1\" class=\"data row1 col1\" >1956</td>\n",
              "    </tr>\n",
              "    <tr>\n",
              "      <th id=\"T_cefb8_level0_row2\" class=\"row_heading level0 row2\" >1</th>\n",
              "      <td id=\"T_cefb8_row2_col0\" class=\"data row2 col0\" >BÚSQUEDA LOCAL</td>\n",
              "      <td id=\"T_cefb8_row2_col1\" class=\"data row2 col1\" >3365</td>\n",
              "    </tr>\n",
              "    <tr>\n",
              "      <th id=\"T_cefb8_level0_row3\" class=\"row_heading level0 row3\" >0</th>\n",
              "      <td id=\"T_cefb8_row3_col0\" class=\"data row3 col0\" >BÚSQUEDA ALEATORIA</td>\n",
              "      <td id=\"T_cefb8_row3_col1\" class=\"data row3 col1\" >3558</td>\n",
              "    </tr>\n",
              "  </tbody>\n",
              "</table>\n"
            ]
          },
          "metadata": {}
        }
      ]
    },
    {
      "cell_type": "markdown",
      "source": [
        "---\n",
        "Cierre de actividad\n",
        "\n",
        "---"
      ],
      "metadata": {
        "id": "Uzg-n7yT2S8r"
      }
    }
  ]
}