{
  "cells": [
    {
      "cell_type": "markdown",
      "metadata": {
        "id": "view-in-github",
        "colab_type": "text"
      },
      "source": [
        "<a href=\"https://colab.research.google.com/github/jagvgithub/Algortimos_optimizacion_VIU/blob/main/Algoritmos_R1.ipynb\" target=\"_parent\"><img src=\"https://colab.research.google.com/assets/colab-badge.svg\" alt=\"Open In Colab\"/></a>"
      ]
    },
    {
      "cell_type": "markdown",
      "metadata": {
        "id": "kQn6fbhgtH9I"
      },
      "source": [
        "# Algoritmos de optimización - Reto 1\n",
        "\n",
        "Nombre: Jose Antonio Gómez Vargas\n",
        "\n",
        "Github: [Enlace directo a Github](https://github.com/jagvgithub/Algortimos_optimizacion_VIU/blob/main/Algoritmos_R1.ipynb)"
      ]
    },
    {
      "cell_type": "markdown",
      "metadata": {
        "id": "_t62Ge7ZuKnC"
      },
      "source": [
        "## Torres de Hanoi con Divide y vencerás\n",
        "\n",
        "Resuelve el problema de las [Torres de Hanoi](https://es.wikipedia.org/wiki/Torres_de_Han%C3%B3i) para un número arbitrario de fichas utilizando la técnica de divide y vencerás."
      ]
    },
    {
      "cell_type": "code",
      "source": [
        "# librerías necesarias\n",
        "\n",
        "import time\n",
        "\n",
        "# Validación del valor de entrada\n",
        "\n",
        "while True:\n",
        "    try:\n",
        "        discos = int(input(\"\\nPor favor ingrese el número de discos: \"))\n",
        "        if discos <= 0:\n",
        "            print(\"\\nEl número de discos debe ser mayor que cero, Inténtalo de nuevo.\")\n",
        "        else:\n",
        "            break\n",
        "    except ValueError:\n",
        "        print(\"\\nPor favor, ingresa un número entero.\")\n",
        "\n",
        "# presentar el usuario de manera visual como inicia el ejercicio en la torre 1\n",
        "\n",
        "print(\"\\nla estructura incial del ejercicio es: \")\n",
        "\n",
        "def patron_estrellas(discos):\n",
        "    for i in range(1, discos + 1):\n",
        "        espacios = \" \" * (discos - i)  # Rellenamos con espacios para alinear los asteriscos a la derecha\n",
        "        asteriscos = \"*\" * (2 * i - 1)  # Aumentamos la cantidad de asteriscos en cada fila\n",
        "        print(\"\\n\",espacios + asteriscos)\n",
        "patron_estrellas(discos)\n",
        "\n",
        "# Resolución del problema de las torres de Hanoi\n",
        "\n",
        "print(\"\\nProcesamiento del algoritmo \")\n",
        "\n",
        "start_time = time.time() # inicio contador de tiempo\n",
        "\n",
        "# creación función problema torres de Hanoi\n",
        "\n",
        "def reto_1_torres_hanoi(discos, origen,auxiliar,destino): # parámetros necesario para la correcta ejecución de la función\n",
        "    if discos == 1:\n",
        "        print(\"\\nDesplazar disco 1 de\", origen, \"a\", destino)\n",
        "        return\n",
        "    reto_1_torres_hanoi(discos - 1, origen, auxiliar, destino)  # Mover n-1 discos a la torre auxiliar\n",
        "    print(\"\\nDesplazar Nivel de\", origen, \"a\", destino)  # Mover la torre restante a la torre destino\n",
        "    reto_1_torres_hanoi(discos - 1, auxiliar, destino, origen)  # Mover los n-1 discos de la torre auxiliar a la torre destino\n",
        "\n",
        "reto_1_torres_hanoi(discos, 'Nivel izquierdo', 'Nivel medio', 'Nivel derecho')\n",
        "\n",
        "print(\"\\nAlgoritmo finalizado con éxito. \")\n",
        "\n",
        "end_time = time.time() # cierre contador de tiempo\n",
        "\n",
        "print(\"\\nEl algoritmo tuvo una duración total de:\", round(end_time - start_time,5), \"segundos\")"
      ],
      "metadata": {
        "colab": {
          "base_uri": "https://localhost:8080/"
        },
        "collapsed": true,
        "id": "pv5-Jt_S-58T",
        "outputId": "25abec24-e51b-40a5-97f0-6e4f07922fef"
      },
      "execution_count": 5,
      "outputs": [
        {
          "output_type": "stream",
          "name": "stdout",
          "text": [
            "\n",
            "Ingresa el número de discos: 3\n",
            "\n",
            "la estructura incial del ejercicio es: \n",
            "\n",
            "   *\n",
            "\n",
            "  ***\n",
            "\n",
            " *****\n",
            "\n",
            "Procesamiento del algoritmo \n",
            "\n",
            "Desplazar disco 1 de Nivel izquierdo a Nivel derecho\n",
            "\n",
            "Desplazar Nivel de Nivel izquierdo a Nivel derecho\n",
            "\n",
            "Desplazar disco 1 de Nivel medio a Nivel izquierdo\n",
            "\n",
            "Desplazar Nivel de Nivel izquierdo a Nivel derecho\n",
            "\n",
            "Desplazar disco 1 de Nivel medio a Nivel izquierdo\n",
            "\n",
            "Desplazar Nivel de Nivel medio a Nivel izquierdo\n",
            "\n",
            "Desplazar disco 1 de Nivel derecho a Nivel medio\n",
            "\n",
            "Algoritmo finalizado con éxito. \n",
            "\n",
            "El algoritmo tuvo una duración total de: 0.00116 segundos\n"
          ]
        }
      ]
    },
    {
      "cell_type": "markdown",
      "metadata": {
        "id": "_Ktwoswx9Y20"
      },
      "source": [
        "## Sucesión de Fibonacci\n",
        "\n",
        "Cálcula el n-ésimo término de la [Sucesión de Fibonacci](https://es.wikipedia.org/wiki/Sucesi%C3%B3n_de_Fibonacci) mediante un algoritmo recursivo y otro iterativo. Representa gráficamente cómo crece el tiempo de cómputo en función del número de términos para ambos algoritmos."
      ]
    },
    {
      "cell_type": "code",
      "execution_count": 24,
      "metadata": {
        "colab": {
          "base_uri": "https://localhost:8080/",
          "height": 559
        },
        "id": "74qZZAekiNYR",
        "outputId": "41a2e3f9-3642-4bd6-ae55-8c0346c2d71c"
      },
      "outputs": [
        {
          "output_type": "stream",
          "name": "stdout",
          "text": [
            "\n",
            "Por favor ingrese la cantidad de números a evaluar: 30\n",
            "Tiempo total de ejecución del algoritmo recursivo: 0.891110 segundos\n",
            "Tiempo total de ejecución del algoritmo iterativo: 0.000110 segundos\n",
            "\n"
          ]
        },
        {
          "output_type": "display_data",
          "data": {
            "text/plain": [
              "<Figure size 640x480 with 1 Axes>"
            ],
            "image/png": "[encoded data removed]"
          },
          "metadata": {}
        }
      ],
      "source": [
        "import time\n",
        "import matplotlib.pyplot as plt\n",
        "\n",
        "# Validación del valor de entrada\n",
        "while True:\n",
        "    try:\n",
        "        n = int(input(\"\\nPor favor ingrese la cantidad de números a evaluar: \"))\n",
        "        if n <= 0:\n",
        "            print(\"\\nEl número de términos debe ser mayor que cero. Inténtalo de nuevo.\")\n",
        "        else:\n",
        "            break\n",
        "    except ValueError:\n",
        "        print(\"\\nPor favor, ingresa un número entero.\")\n",
        "\n",
        "# Algoritmo Recursivo de Fibonacci\n",
        "def fibonacci_recursivo(n):\n",
        "    if n <= 1:\n",
        "        return n\n",
        "    else:\n",
        "        return fibonacci_recursivo(n-1) + fibonacci_recursivo(n-2)\n",
        "\n",
        "# Algoritmo Iterativo de Fibonacci\n",
        "def fibonacci_iterativo(n):\n",
        "    a, b = 0, 1\n",
        "    for _ in range(n):\n",
        "        a, b = b, a + b\n",
        "    return a\n",
        "\n",
        "# Función para medir el tiempo de ejecución de una función\n",
        "def medir_tiempo(funcion, *args):\n",
        "    inicio = time.time()\n",
        "    resultado = funcion(*args)\n",
        "    fin = time.time()\n",
        "    return resultado, fin - inicio\n",
        "\n",
        "# Crear listas para almacenar los tiempos de ejecución\n",
        "n_values = list(range(1, n + 1))\n",
        "tiempos_recursivo = []\n",
        "tiempos_iterativo = []\n",
        "\n",
        "# Calcular los tiempos de ejecución para ambos algoritmos\n",
        "for n in n_values:\n",
        "    _, tiempo_recursivo = medir_tiempo(fibonacci_recursivo, n)\n",
        "    _, tiempo_iterativo = medir_tiempo(fibonacci_iterativo, n)\n",
        "    tiempos_recursivo.append(tiempo_recursivo)\n",
        "    tiempos_iterativo.append(tiempo_iterativo)\n",
        "\n",
        "# Imprimir el tiempo total de ejecución para cada método\n",
        "tiempo_total_recursivo = round(sum(tiempos_recursivo),5)\n",
        "tiempo_total_iterativo = round(sum(tiempos_iterativo),5)\n",
        "\n",
        "# Imprimir el tiempo total de ejecución para cada método\n",
        "print(f'Tiempo total de ejecución del algoritmo recursivo: {tiempo_total_recursivo:.6f} segundos')\n",
        "print(f'Tiempo total de ejecución del algoritmo iterativo: {tiempo_total_iterativo:.6f} segundos\\n')\n",
        "\n",
        "# Graficar los tiempos de ejecución\n",
        "plt.plot(n_values, tiempos_recursivo, label='Recursivo')\n",
        "plt.plot(n_values, tiempos_iterativo, label='Iterativo')\n",
        "plt.xlabel('Número de términos de Fibonacci')\n",
        "plt.ylabel('Tiempo de ejecución (segundos)')\n",
        "plt.title(f'Comparación del tiempo de ejecución para {n} números')\n",
        "plt.legend()\n",
        "plt.grid(True)\n",
        "plt.show()"
      ]
    },
    {
      "cell_type": "markdown",
      "metadata": {
        "id": "RgT5XJsZ429L"
      },
      "source": [
        "## Devolución de cambio por técnica voraz\n",
        "\n",
        "Resuelve el [Problema del Cambio de Moneda](https://es.wikipedia.org/wiki/Problema_de_cambio_de_monedas) utilizando una técnica voraz."
      ]
    },
    {
      "cell_type": "markdown",
      "source": [
        "* Conjunto de candidatos (C): En el problema del cambio de monedas, el conjunto de candidatos es el conjunto de monedas disponibles que podemos utilizar para dar cambio. Por ejemplo, si las monedas disponibles son de 1, 2, 5, 10, 20, 50, 100, 500.\n",
        "\n",
        "* Función solución: En cada paso, la función solución verifica si hemos alcanzado el monto deseado utilizando las monedas seleccionadas. Por ejemplo, si queremos dar cambio de 47 unidades y ya hemos seleccionado monedas que suman 47 unidades, entonces hemos encontrado una solución.\n",
        "\n",
        "* Función de selección: La función de selección en el problema del cambio de monedas consiste en seleccionar la moneda de mayor valor disponible que no exceda el monto restante. Por ejemplo, si el monto restante es 47 y las monedas disponibles son de 1, 2, 5, 10, 20, 50, 100, 500, entonces seleccionamos la moneda de 20, ya que es la de mayor valor que no excede 47.\n",
        "\n",
        "* Función de factibilidad: Esta función determina si, dado un conjunto de monedas seleccionadas y una moneda candidata, podemos llegar a una solución. En el caso del cambio de monedas, siempre podemos llegar a una solución, ya que podemos utilizar cualquier combinación de monedas disponibles para formar el cambio.\n",
        "\n",
        "* Función objetivo: El objetivo del problema del cambio de monedas es minimizar el número de monedas utilizadas para dar el cambio. En otras palabras, queremos minimizar la cantidad de monedas necesarias para alcanzar el monto deseado."
      ],
      "metadata": {
        "id": "B0TFjdHMsrsO"
      }
    },
    {
      "cell_type": "code",
      "execution_count": 28,
      "metadata": {
        "colab": {
          "base_uri": "https://localhost:8080/"
        },
        "id": "uJtftBLU4-ap",
        "outputId": "5d0fc119-8b88-4ba3-d090-d5df41bf7765"
      },
      "outputs": [
        {
          "output_type": "stream",
          "name": "stdout",
          "text": [
            "Ingrese el monto a cambiar: a\n",
            "Error: Por favor, ingrese números enteros para el monto y las monedas.\n",
            "Ingrese el monto a cambiar: 475\n",
            "Ingrese las monedas disponibles separadas por espacios: 1 10 100 120 5\n",
            "Cambio:\n",
            "3 moneda(s) de 120\n",
            "1 moneda(s) de 100\n",
            "1 moneda(s) de 10\n",
            "1 moneda(s) de 5\n"
          ]
        }
      ],
      "source": [
        "# Problema del cambio de moneda\n",
        "\n",
        "def cambio_de_moneda():\n",
        "    while True:\n",
        "        try:\n",
        "            # Solicitar al usuario el monto y las monedas disponibles\n",
        "            monto = int(input(\"Ingrese el monto a cambiar: \"))\n",
        "            monedas_input = input(\"Ingrese las monedas disponibles separadas por espacios: \").split()\n",
        "            monedas = [int(moneda) for moneda in monedas_input]  # Convertir las monedas a enteros\n",
        "            monedas.sort(reverse=True)  # Ordenar las monedas de mayor a menor valor\n",
        "            break\n",
        "        except ValueError:\n",
        "            print(\"Error: Por favor, ingrese números enteros para el monto y las monedas.\")\n",
        "\n",
        "    # Calcular el cambio\n",
        "    cambio = {}\n",
        "    for moneda in monedas:\n",
        "        cantidad = monto // moneda\n",
        "        if cantidad > 0:\n",
        "            cambio[moneda] = cantidad\n",
        "            monto -= cantidad * moneda\n",
        "\n",
        "    return cambio\n",
        "\n",
        "# Obtener el cambio y mostrarlo al usuario\n",
        "cambio = cambio_de_moneda()\n",
        "print(\"Cambio:\")\n",
        "for moneda, cantidad in cambio.items():\n",
        "    print(f\"{cantidad} moneda(s) de {moneda}\")"
      ]
    },
    {
      "cell_type": "markdown",
      "metadata": {
        "id": "g8M9GTvy_Fa3"
      },
      "source": [
        "## N-Reinas por técnica de vuelta atrás\n",
        "Resuelve el [Problema de las N-Reinas](https://es.wikipedia.org/wiki/Problema_de_las_ocho_reinas) en un tablero de dimensión N mediante la técnica de la vuelta atrás (backtraking)."
      ]
    },
    {
      "cell_type": "markdown",
      "source": [
        "* El algoritmo de backtracking comienza probando todas las posibles combinaciones de colocación de reinas y retrocede (backtracks) cuando encuentra una solución inválida, buscando otras combinaciones posibles. Esto se repite hasta que se encuentre una solución válida o se hayan probado todas las combinaciones posibles."
      ],
      "metadata": {
        "id": "QqGWSnId2JGV"
      }
    },
    {
      "cell_type": "code",
      "execution_count": 63,
      "metadata": {
        "id": "FqOPyCmv_K65",
        "colab": {
          "base_uri": "https://localhost:8080/"
        },
        "outputId": "31dd7af9-2d15-467d-ff7c-44d43823d7c7"
      },
      "outputs": [
        {
          "output_type": "stream",
          "name": "stdout",
          "text": [
            "\n",
            "Por favor ingrese la cantidad de números a evaluar: 10\n",
            "Solución encontrada para el tablero de dimensiones 10\n",
            "♕ x x x x x x x x x\n",
            "x x ♕ x x x x x x x\n",
            "x x x x x ♕ x x x x\n",
            "x x x x x x x ♕ x x\n",
            "x x x x x x x x x ♕\n",
            "x x x x ♕ x x x x x\n",
            "x x x x x x x x ♕ x\n",
            "x ♕ x x x x x x x x\n",
            "x x x ♕ x x x x x x\n",
            "x x x x x x ♕ x x x\n"
          ]
        },
        {
          "output_type": "execute_result",
          "data": {
            "text/plain": [
              "True"
            ]
          },
          "metadata": {},
          "execution_count": 63
        }
      ],
      "source": [
        "# Problema de las N-Reinas\n",
        "\n",
        "# Validación del valor de entrada\n",
        "while True:\n",
        "    try:\n",
        "        n = int(input(\"\\nPor favor ingrese la cantidad de números a evaluar: \"))\n",
        "        if n <= 0:\n",
        "            print(\"\\nEl número debe ser mayor que cero. Inténtalo de nuevo.\")\n",
        "        else:\n",
        "            break\n",
        "    except ValueError:\n",
        "        print(\"\\nPor favor, ingresa un número entero.\")\n",
        "\n",
        "def es_seguro(tablero, fila, columna, N):\n",
        "    # Verificar si hay una reina en la misma columna en las filas anteriores\n",
        "    for i in range(fila):\n",
        "        if tablero[i][columna] == '♕':\n",
        "            return False\n",
        "\n",
        "    # Verificar si hay una reina en la misma diagonal superior izquierda\n",
        "    for i, j in zip(range(fila, -1, -1), range(columna, -1, -1)):\n",
        "        if tablero[i][j] == '♕':\n",
        "            return False\n",
        "\n",
        "    # Verificar si hay una reina en la misma diagonal superior derecha\n",
        "    for i, j in zip(range(fila, -1, -1), range(columna, n)):\n",
        "        if tablero[i][j] == '♕':\n",
        "            return False\n",
        "    return True\n",
        "\n",
        "def resolver_n_reinas_util(tablero, fila, n):\n",
        "    if fila >= n:\n",
        "        return True\n",
        "\n",
        "    for i in range(n):\n",
        "        if es_seguro(tablero, fila, i, n):\n",
        "            tablero[fila][i] = '♕'\n",
        "            if resolver_n_reinas_util(tablero, fila + 1, n):\n",
        "                return True\n",
        "            tablero[fila][i] = 'x'\n",
        "\n",
        "    return False\n",
        "\n",
        "def resolver_n_reinas(n):\n",
        "    if n < 4:\n",
        "        print(\"No hay solución para el tablero de dimensiones\", n, \"debido a que el tamaño del tablero es demasiado pequeño.\")\n",
        "        return False\n",
        "\n",
        "    tablero = [['x'] * n for _ in range(n)]\n",
        "\n",
        "    if not resolver_n_reinas_util(tablero, 0, n):\n",
        "        print(\"No hay solución para el tablero de dimensiones\", n, \"debido a la disposición de las filas.\")\n",
        "        return False\n",
        "\n",
        "    print(\"Solución encontrada para el tablero de dimensiones\", n)\n",
        "    for fila in tablero:\n",
        "        print(' '.join(fila))\n",
        "    return True\n",
        "\n",
        "resolver_n_reinas(n)"
      ]
    }
  ],
  "metadata": {
    "colab": {
      "provenance": [],
      "toc_visible": true,
      "include_colab_link": true
    },
    "kernelspec": {
      "display_name": "Python 3 (ipykernel)",
      "language": "python",
      "name": "python3"
    },
    "language_info": {
      "codemirror_mode": {
        "name": "ipython",
        "version": 3
      },
      "file_extension": ".py",
      "mimetype": "text/x-python",
      "name": "python",
      "nbconvert_exporter": "python",
      "pygments_lexer": "ipython3",
      "version": "3.11.5"
    }
  },
  "nbformat": 4,
  "nbformat_minor": 0
}